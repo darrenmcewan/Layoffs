{
 "cells": [
  {
   "cell_type": "code",
   "execution_count": 89,
   "metadata": {
    "id": "-KEpEBrx6Cn8"
   },
   "outputs": [],
   "source": [
    "import pandas as pd\n",
    "import numpy as np\n",
    "\n",
    "import matplotlib.pyplot as plt\n",
    "from sklearn.linear_model import LinearRegression, SGDClassifier\n",
    "from sklearn.model_selection import train_test_split\n",
    "from sklearn.metrics import mean_squared_error, r2_score, mean_absolute_error, accuracy_score, f1_score\n",
    "import statsmodels.api as sm\n",
    "from sklearn.feature_selection import SelectFromModel\n",
    "\n",
    "from sklearn.naive_bayes import GaussianNB\n",
    "\n",
    "from sklearn.preprocessing import StandardScaler\n",
    "from sklearn.pipeline import make_pipeline\n",
    "from sklearn.model_selection import GridSearchCV\n",
    "from sklearn import metrics\n",
    "from sklearn.svm import SVC\n",
    "from sklearn.neural_network import MLPClassifier\n",
    "import seaborn as sns\n",
    "from datetime import datetime as dt\n",
    "from sklearn.preprocessing import StandardScaler\n",
    "from sklearn.feature_selection import SelectFromModel\n",
    "\n",
    "from sklearn.model_selection import train_test_split\n",
    "from sklearn import preprocessing\n",
    "from sklearn.feature_selection import RFE\n",
    "\n",
    "from xgboost import *\n",
    "from hyperopt import hp\n",
    "\n",
    "from sklearn.ensemble import RandomForestClassifier, GradientBoostingClassifier\n",
    "from sklearn.metrics import classification_report, confusion_matrix, accuracy_score, precision_score, recall_score, \\\n",
    "    f1_score, roc_auc_score\n",
    "from sklearn.model_selection import cross_val_score\n",
    "from shaphypetune import BoostSearch, BoostRFE, BoostRFA, BoostBoruta\n",
    "\n",
    "from sklearn.model_selection import RandomizedSearchCV\n",
    "from sklearn.pipeline import Pipeline"
   ]
  },
  {
   "cell_type": "markdown",
   "metadata": {
    "id": "l0rewj2GPNK5"
   },
   "source": [
    "# Load data and clean"
   ]
  },
  {
   "cell_type": "code",
   "execution_count": 90,
   "metadata": {
    "id": "v7Rhgkdo6GkF"
   },
   "outputs": [
    {
     "data": {
      "text/plain": "   Number of Workers                                        Industry   \n0              489.0  Consumer Discretionary Select Sector SPDR Fund  \\\n1               96.0  Consumer Discretionary Select Sector SPDR Fund   \n2               95.0  Consumer Discretionary Select Sector SPDR Fund   \n3               87.0  Consumer Discretionary Select Sector SPDR Fund   \n4               75.0  Consumer Discretionary Select Sector SPDR Fund   \n\n       Open       High        Low      Close      Volume       CPI    PPI   \n0  123.1900  124.33000  121.18000  121.49000  12360390.0  2.334874  196.7  \\\n1   27.4344   27.71252   26.96252   27.22188    124920.0  2.334874  196.7   \n2   27.4344   27.71252   26.96252   27.22188    124920.0  2.334874  196.7   \n3   27.4344   27.71252   26.96252   27.22188    124920.0  2.334874  196.7   \n4   27.4344   27.71252   26.96252   27.22188    124920.0  2.334874  196.7   \n\n   GDP  ...     Date  Hire_quite_jolts  Job_seekers_ratio  hires_sm  quits_sm   \n0  1.6  ...  2020-02               1.7               0.82  3.933333  2.333333  \\\n1  1.6  ...  2020-02               1.7               0.82  3.933333  2.333333   \n2  1.6  ...  2020-02               1.7               0.82  3.933333  2.333333   \n3  1.6  ...  2020-02               1.7               0.82  3.933333  2.333333   \n4  1.6  ...  2020-02               1.7               0.82  3.933333  2.333333   \n\n   layoffs_sm   actual_hire  log_num_of_workers  layoff_category_by_log   \n0    1.266667  27556.933333            6.192362                       3  \\\n1    1.266667  27556.933333            4.564348                       3   \n2    1.266667  27556.933333            4.553877                       3   \n3    1.266667  27556.933333            4.465908                       3   \n4    1.266667  27556.933333            4.317488                       3   \n\n  layoff_category_by_num  \n0                      3  \n1                      2  \n2                      2  \n3                      2  \n4                      2  \n\n[5 rows x 30 columns]",
      "text/html": "<div>\n<style scoped>\n    .dataframe tbody tr th:only-of-type {\n        vertical-align: middle;\n    }\n\n    .dataframe tbody tr th {\n        vertical-align: top;\n    }\n\n    .dataframe thead th {\n        text-align: right;\n    }\n</style>\n<table border=\"1\" class=\"dataframe\">\n  <thead>\n    <tr style=\"text-align: right;\">\n      <th></th>\n      <th>Number of Workers</th>\n      <th>Industry</th>\n      <th>Open</th>\n      <th>High</th>\n      <th>Low</th>\n      <th>Close</th>\n      <th>Volume</th>\n      <th>CPI</th>\n      <th>PPI</th>\n      <th>GDP</th>\n      <th>...</th>\n      <th>Date</th>\n      <th>Hire_quite_jolts</th>\n      <th>Job_seekers_ratio</th>\n      <th>hires_sm</th>\n      <th>quits_sm</th>\n      <th>layoffs_sm</th>\n      <th>actual_hire</th>\n      <th>log_num_of_workers</th>\n      <th>layoff_category_by_log</th>\n      <th>layoff_category_by_num</th>\n    </tr>\n  </thead>\n  <tbody>\n    <tr>\n      <th>0</th>\n      <td>489.0</td>\n      <td>Consumer Discretionary Select Sector SPDR Fund</td>\n      <td>123.1900</td>\n      <td>124.33000</td>\n      <td>121.18000</td>\n      <td>121.49000</td>\n      <td>12360390.0</td>\n      <td>2.334874</td>\n      <td>196.7</td>\n      <td>1.6</td>\n      <td>...</td>\n      <td>2020-02</td>\n      <td>1.7</td>\n      <td>0.82</td>\n      <td>3.933333</td>\n      <td>2.333333</td>\n      <td>1.266667</td>\n      <td>27556.933333</td>\n      <td>6.192362</td>\n      <td>3</td>\n      <td>3</td>\n    </tr>\n    <tr>\n      <th>1</th>\n      <td>96.0</td>\n      <td>Consumer Discretionary Select Sector SPDR Fund</td>\n      <td>27.4344</td>\n      <td>27.71252</td>\n      <td>26.96252</td>\n      <td>27.22188</td>\n      <td>124920.0</td>\n      <td>2.334874</td>\n      <td>196.7</td>\n      <td>1.6</td>\n      <td>...</td>\n      <td>2020-02</td>\n      <td>1.7</td>\n      <td>0.82</td>\n      <td>3.933333</td>\n      <td>2.333333</td>\n      <td>1.266667</td>\n      <td>27556.933333</td>\n      <td>4.564348</td>\n      <td>3</td>\n      <td>2</td>\n    </tr>\n    <tr>\n      <th>2</th>\n      <td>95.0</td>\n      <td>Consumer Discretionary Select Sector SPDR Fund</td>\n      <td>27.4344</td>\n      <td>27.71252</td>\n      <td>26.96252</td>\n      <td>27.22188</td>\n      <td>124920.0</td>\n      <td>2.334874</td>\n      <td>196.7</td>\n      <td>1.6</td>\n      <td>...</td>\n      <td>2020-02</td>\n      <td>1.7</td>\n      <td>0.82</td>\n      <td>3.933333</td>\n      <td>2.333333</td>\n      <td>1.266667</td>\n      <td>27556.933333</td>\n      <td>4.553877</td>\n      <td>3</td>\n      <td>2</td>\n    </tr>\n    <tr>\n      <th>3</th>\n      <td>87.0</td>\n      <td>Consumer Discretionary Select Sector SPDR Fund</td>\n      <td>27.4344</td>\n      <td>27.71252</td>\n      <td>26.96252</td>\n      <td>27.22188</td>\n      <td>124920.0</td>\n      <td>2.334874</td>\n      <td>196.7</td>\n      <td>1.6</td>\n      <td>...</td>\n      <td>2020-02</td>\n      <td>1.7</td>\n      <td>0.82</td>\n      <td>3.933333</td>\n      <td>2.333333</td>\n      <td>1.266667</td>\n      <td>27556.933333</td>\n      <td>4.465908</td>\n      <td>3</td>\n      <td>2</td>\n    </tr>\n    <tr>\n      <th>4</th>\n      <td>75.0</td>\n      <td>Consumer Discretionary Select Sector SPDR Fund</td>\n      <td>27.4344</td>\n      <td>27.71252</td>\n      <td>26.96252</td>\n      <td>27.22188</td>\n      <td>124920.0</td>\n      <td>2.334874</td>\n      <td>196.7</td>\n      <td>1.6</td>\n      <td>...</td>\n      <td>2020-02</td>\n      <td>1.7</td>\n      <td>0.82</td>\n      <td>3.933333</td>\n      <td>2.333333</td>\n      <td>1.266667</td>\n      <td>27556.933333</td>\n      <td>4.317488</td>\n      <td>3</td>\n      <td>2</td>\n    </tr>\n  </tbody>\n</table>\n<p>5 rows × 30 columns</p>\n</div>"
     },
     "execution_count": 90,
     "metadata": {},
     "output_type": "execute_result"
    }
   ],
   "source": [
    "df = pd.read_csv('Layoff.csv',encoding='cp1252')\n",
    "df = df.drop(['Company', 'City', 'State', 'Closure/Layoff','Temporary/Permanent', 'Effective Date','Union','Region','County'], axis=1)\n",
    "df['WARN Received Date'] = pd.to_datetime(df['WARN Received Date'])\n",
    "df['by_month'] = df['WARN Received Date'].dt.strftime(\"%Y-%m\")\n",
    "df = df.drop(['WARN Received Date'], axis=1)\n",
    "df = df[(df.by_month<'2020-03')|(df.by_month>'2021-09')].copy()\n",
    "# Check for missing values\n",
    "df.isna().sum()\n",
    "df.head()"
   ]
  },
  {
   "cell_type": "code",
   "execution_count": 91,
   "outputs": [
    {
     "data": {
      "text/plain": "Number of Workers         float64\nIndustry                   object\nOpen                      float64\nHigh                      float64\nLow                       float64\nClose                     float64\nVolume                    float64\nCPI                       float64\nPPI                       float64\nGDP                       float64\nunemployment_rate         float64\njob_nonfam                  int64\njob_IT                      int64\njob_service                 int64\njob_retail                  int64\njob_education_health        int64\nfed_rate                  float64\nPPI_chg                   float64\nPPI_CPI                   float64\nby_month                   object\nDate                       object\nHire_quite_jolts          float64\nJob_seekers_ratio         float64\nhires_sm                  float64\nquits_sm                  float64\nlayoffs_sm                float64\nactual_hire               float64\nlog_num_of_workers        float64\nlayoff_category_by_log      int64\nlayoff_category_by_num      int64\ndtype: object"
     },
     "execution_count": 91,
     "metadata": {},
     "output_type": "execute_result"
    }
   ],
   "source": [
    "df.dtypes"
   ],
   "metadata": {
    "collapsed": false
   }
  },
  {
   "cell_type": "code",
   "execution_count": 92,
   "metadata": {
    "colab": {
     "base_uri": "https://localhost:8080/"
    },
    "id": "fwBKBvyrf0Il",
    "outputId": "f8c633e4-86d6-44db-e5ad-b6783875292a"
   },
   "outputs": [
    {
     "data": {
      "text/plain": "0.25     15.0\n0.50     52.0\n0.75    100.0\nName: Number of Workers, dtype: float64"
     },
     "execution_count": 92,
     "metadata": {},
     "output_type": "execute_result"
    }
   ],
   "source": [
    "quantiles = df['Number of Workers'].quantile([0.25, 0.5, 0.75])\n",
    "quantiles"
   ]
  },
  {
   "cell_type": "code",
   "execution_count": 93,
   "metadata": {
    "id": "U_-ZT9Yof4jy"
   },
   "outputs": [],
   "source": [
    "df['layoff_category_quantile'] = pd.cut(df['Number of Workers'], bins=[0, quantiles.iloc[0], quantiles.iloc[1], df['Number of Workers'].max()], labels=[1,2,3])"
   ]
  },
  {
   "cell_type": "markdown",
   "metadata": {
    "id": "wYwPjmhEPGmB"
   },
   "source": [
    "# Exploratory Data Analysis"
   ]
  },
  {
   "cell_type": "code",
   "execution_count": 94,
   "metadata": {
    "colab": {
     "base_uri": "https://localhost:8080/",
     "height": 1000
    },
    "id": "51IRsvRP8mHa",
    "outputId": "ef38917e-62cb-42f5-dd92-b094e499b489"
   },
   "outputs": [
    {
     "data": {
      "text/plain": "<Figure size 2000x2000 with 4 Axes>",
      "image/png": "[encoded data removed]"
     },
     "metadata": {},
     "output_type": "display_data"
    }
   ],
   "source": [
    "df2 = df[['unemployment_rate', 'GDP', 'fed_rate', 'log_num_of_workers']]\n",
    "df2.hist(figsize=(20,20))\n",
    "plt.savefig('plots/histogram.pdf')"
   ]
  },
  {
   "cell_type": "code",
   "execution_count": 96,
   "metadata": {
    "colab": {
     "base_uri": "https://localhost:8080/",
     "height": 1000
    },
    "id": "r9JOA_HU806d",
    "outputId": "1d3c519b-a6de-4f51-9dbd-f8ee8853718c"
   },
   "outputs": [],
   "source": [
    "#fig, ax = plt.subplots(figsize=(15,15))\n",
    "#sns.heatmap(df.corr(), annot=True, ax=ax)"
   ]
  },
  {
   "cell_type": "code",
   "execution_count": 97,
   "metadata": {
    "colab": {
     "base_uri": "https://localhost:8080/",
     "height": 449
    },
    "id": "JTxqF7xa82yu",
    "outputId": "ae76db1b-1dbe-4b39-b58d-69e0d2af9355"
   },
   "outputs": [
    {
     "data": {
      "text/plain": "<Figure size 640x480 with 1 Axes>",
      "image/png": "[encoded data removed]"
     },
     "metadata": {},
     "output_type": "display_data"
    }
   ],
   "source": [
    "# Visualize the relationship between two numerical columns using a scatter plot\n",
    "#plt.scatter(df['GDP'], df['unemployment_rate'])\n",
    "#plt.xlabel('GDP')\n",
    "#plt.ylabel('Unemployment Rate')\n",
    "#plt.savefig('plots/GDP_unemployment.pdf')"
   ]
  },
  {
   "cell_type": "code",
   "execution_count": 99,
   "metadata": {
    "colab": {
     "base_uri": "https://localhost:8080/",
     "height": 850
    },
    "id": "luak4RzsAJDR",
    "outputId": "79c0c380-8ba0-4099-87e3-d7ef60fce5a5"
   },
   "outputs": [
    {
     "ename": "KeyError",
     "evalue": "'WARN Received Date'",
     "output_type": "error",
     "traceback": [
      "\u001B[0;31m---------------------------------------------------------------------------\u001B[0m",
      "\u001B[0;31mKeyError\u001B[0m                                  Traceback (most recent call last)",
      "Cell \u001B[0;32mIn[99], line 1\u001B[0m\n\u001B[0;32m----> 1\u001B[0m sortedDF \u001B[38;5;241m=\u001B[39m \u001B[43mdf\u001B[49m\u001B[38;5;241;43m.\u001B[39;49m\u001B[43msort_values\u001B[49m\u001B[43m(\u001B[49m\u001B[43mby\u001B[49m\u001B[38;5;241;43m=\u001B[39;49m\u001B[43m[\u001B[49m\u001B[38;5;124;43m'\u001B[39;49m\u001B[38;5;124;43mWARN Received Date\u001B[39;49m\u001B[38;5;124;43m'\u001B[39;49m\u001B[43m]\u001B[49m\u001B[43m,\u001B[49m\u001B[43m \u001B[49m\u001B[43mascending\u001B[49m\u001B[38;5;241;43m=\u001B[39;49m\u001B[38;5;28;43;01mTrue\u001B[39;49;00m\u001B[43m)\u001B[49m\n\u001B[1;32m      2\u001B[0m fig, ax \u001B[38;5;241m=\u001B[39m plt\u001B[38;5;241m.\u001B[39msubplots(figsize\u001B[38;5;241m=\u001B[39m(\u001B[38;5;241m10\u001B[39m, \u001B[38;5;241m10\u001B[39m))\n\u001B[1;32m      4\u001B[0m plt\u001B[38;5;241m.\u001B[39mplot(sortedDF[\u001B[38;5;124m'\u001B[39m\u001B[38;5;124mWARN Received Date\u001B[39m\u001B[38;5;124m'\u001B[39m], sortedDF[\u001B[38;5;124m'\u001B[39m\u001B[38;5;124mNumber of Workers\u001B[39m\u001B[38;5;124m'\u001B[39m])\n",
      "File \u001B[0;32m~/Documents/GitHub/Layoffs/venv/lib/python3.10/site-packages/pandas/core/frame.py:6768\u001B[0m, in \u001B[0;36mDataFrame.sort_values\u001B[0;34m(self, by, axis, ascending, inplace, kind, na_position, ignore_index, key)\u001B[0m\n\u001B[1;32m   6764\u001B[0m \u001B[38;5;28;01melif\u001B[39;00m \u001B[38;5;28mlen\u001B[39m(by):\n\u001B[1;32m   6765\u001B[0m     \u001B[38;5;66;03m# len(by) == 1\u001B[39;00m\n\u001B[1;32m   6767\u001B[0m     by \u001B[38;5;241m=\u001B[39m by[\u001B[38;5;241m0\u001B[39m]\n\u001B[0;32m-> 6768\u001B[0m     k \u001B[38;5;241m=\u001B[39m \u001B[38;5;28;43mself\u001B[39;49m\u001B[38;5;241;43m.\u001B[39;49m\u001B[43m_get_label_or_level_values\u001B[49m\u001B[43m(\u001B[49m\u001B[43mby\u001B[49m\u001B[43m,\u001B[49m\u001B[43m \u001B[49m\u001B[43maxis\u001B[49m\u001B[38;5;241;43m=\u001B[39;49m\u001B[43maxis\u001B[49m\u001B[43m)\u001B[49m\n\u001B[1;32m   6770\u001B[0m     \u001B[38;5;66;03m# need to rewrap column in Series to apply key function\u001B[39;00m\n\u001B[1;32m   6771\u001B[0m     \u001B[38;5;28;01mif\u001B[39;00m key \u001B[38;5;129;01mis\u001B[39;00m \u001B[38;5;129;01mnot\u001B[39;00m \u001B[38;5;28;01mNone\u001B[39;00m:\n\u001B[1;32m   6772\u001B[0m         \u001B[38;5;66;03m# error: Incompatible types in assignment (expression has type\u001B[39;00m\n\u001B[1;32m   6773\u001B[0m         \u001B[38;5;66;03m# \"Series\", variable has type \"ndarray\")\u001B[39;00m\n",
      "File \u001B[0;32m~/Documents/GitHub/Layoffs/venv/lib/python3.10/site-packages/pandas/core/generic.py:1778\u001B[0m, in \u001B[0;36mNDFrame._get_label_or_level_values\u001B[0;34m(self, key, axis)\u001B[0m\n\u001B[1;32m   1776\u001B[0m     values \u001B[38;5;241m=\u001B[39m \u001B[38;5;28mself\u001B[39m\u001B[38;5;241m.\u001B[39maxes[axis]\u001B[38;5;241m.\u001B[39mget_level_values(key)\u001B[38;5;241m.\u001B[39m_values\n\u001B[1;32m   1777\u001B[0m \u001B[38;5;28;01melse\u001B[39;00m:\n\u001B[0;32m-> 1778\u001B[0m     \u001B[38;5;28;01mraise\u001B[39;00m \u001B[38;5;167;01mKeyError\u001B[39;00m(key)\n\u001B[1;32m   1780\u001B[0m \u001B[38;5;66;03m# Check for duplicates\u001B[39;00m\n\u001B[1;32m   1781\u001B[0m \u001B[38;5;28;01mif\u001B[39;00m values\u001B[38;5;241m.\u001B[39mndim \u001B[38;5;241m>\u001B[39m \u001B[38;5;241m1\u001B[39m:\n",
      "\u001B[0;31mKeyError\u001B[0m: 'WARN Received Date'"
     ]
    }
   ],
   "source": [
    "#sortedDF = df.sort_values(by=['WARN Received Date'], ascending=True)\n",
    "#fig, ax = plt.subplots(figsize=(10, 10))\n",
    " \n",
    "#plt.plot(sortedDF['WARN Received Date'], sortedDF['Number of Workers'])\n",
    "#plt.xlabel('Layoff Date')\n",
    "#plt.ylabel('# of Employees affected')\n",
    "#plt.show()"
   ]
  },
  {
   "cell_type": "markdown",
   "metadata": {
    "id": "w68LEVdtO_5n"
   },
   "source": [
    "# Feature Engineering\n"
   ]
  },
  {
   "cell_type": "code",
   "execution_count": 103,
   "outputs": [],
   "source": [
    "df['Price Volatility'] = df['High'] - df['Low']\n",
    "df['total_layoff'] = df.groupby(['by_month'])['Number of Workers'].transform(sum)"
   ],
   "metadata": {
    "collapsed": false
   }
  },
  {
   "cell_type": "code",
   "execution_count": 104,
   "outputs": [],
   "source": [
    "df_col = [#'State', 'Company', 'City', 'Number of Workers', 'WARN Received Date','Effective Date', 'Closure/Layoff', 'Temporary/Permanent', 'Union','by_month', 'Date','Region', 'County',\n",
    "       'Industry', 'Open', 'High', 'Low', 'Close',\n",
    "       'Volume', 'CPI', 'PPI', 'GDP', 'unemployment_rate', 'job_nonfam',\n",
    "       'job_IT', 'job_service', 'job_retail', 'job_education_health',\n",
    "       'fed_rate', 'PPI_chg', 'PPI_CPI',\n",
    "       'Hire_quite_jolts', 'Job_seekers_ratio', 'hires_sm', 'quits_sm',\n",
    "       'layoffs_sm', 'actual_hire',\n",
    "       'layoff_category_by_log', 'layoff_category_by_num' ]\n",
    "df = df[df_col].copy()"
   ],
   "metadata": {
    "collapsed": false
   }
  },
  {
   "cell_type": "code",
   "execution_count": 105,
   "metadata": {
    "id": "P03m0UCRPnvx"
   },
   "outputs": [],
   "source": [
    "le = preprocessing.LabelEncoder()\n",
    "df['Industry']=le.fit_transform(df['Industry'])\n",
    "df['Industry'] = df['Industry'].astype('category')"
   ]
  },
  {
   "cell_type": "markdown",
   "metadata": {},
   "source": [
    "# ML Models"
   ]
  },
  {
   "cell_type": "code",
   "execution_count": 106,
   "outputs": [],
   "source": [
    "X = df.iloc[:,:-2]\n",
    "y = df.iloc[:,-1]"
   ],
   "metadata": {
    "collapsed": false
   }
  },
  {
   "cell_type": "code",
   "execution_count": 107,
   "metadata": {
    "id": "B_7ZzoO9RIiO"
   },
   "outputs": [],
   "source": [
    "X_train, X_test, y_train, y_test = train_test_split(X,y, test_size=0.3, random_state=77, stratify=df['layoff_category_by_num'])\n",
    "model_name = []\n",
    "acc = []\n",
    "precision = []\n",
    "f1 = []\n",
    "recall = []\n",
    "\n",
    "\n",
    "acc_t = []\n",
    "precision_t = []\n",
    "f1_t = []\n",
    "recall_t = []"
   ]
  },
  {
   "cell_type": "markdown",
   "source": [
    "# Random Forest"
   ],
   "metadata": {
    "collapsed": false
   }
  },
  {
   "cell_type": "code",
   "execution_count": 108,
   "outputs": [],
   "source": [
    "# define the method\n",
    "rfe = RFE(estimator=RandomForestClassifier(), n_features_to_select=10)\n",
    "# fit the model\n",
    "rfe.fit(X, y)\n"
   ],
   "metadata": {
    "collapsed": false
   }
  },
  {
   "cell_type": "code",
   "execution_count": 109,
   "outputs": [],
   "source": [
    "rfe.get_feature_names_out()"
   ],
   "metadata": {
    "collapsed": false
   }
  },
  {
   "cell_type": "code",
   "execution_count": 110,
   "outputs": [],
   "source": [
    "rf_sector = []\n",
    "rf_model = []\n",
    "rf_best_param = []\n",
    "rf_acc = []\n",
    "rf_fi = []\n",
    "\n",
    "\n",
    "randomforestCLF = RandomForestClassifier(criterion = 'gini' , n_jobs = -1)\n",
    "\n",
    "parameters_rf = {'n_estimators':[10 , 100 , 250, 500, 600,700,1000 ],\n",
    "                 'max_depth' : [ None , 4 , 8  , 10 , 12] ,\n",
    "                 'max_features' : ['sqrt' , 'log2'] ,\n",
    "                 'max_leaf_nodes' : [2 , 4 , 8 , 10] ,\n",
    "                 'max_samples' : [50 , 100 , 150,300]}\n",
    "\n",
    "'''cross validation'''\n",
    "rf_rand_cv = RandomizedSearchCV(randomforestCLF , parameters_rf , cv = 5 ,scoring='accuracy', n_jobs = -1 ,error_score='raise')\n",
    "rf_rand_cv.fit(X_train[rfe.get_feature_names_out()], y_train)\n",
    "\n",
    "rf_best_param.append(rf_rand_cv.best_params_)\n",
    "\n",
    "randomforestCLF = RandomForestClassifier(n_estimators = rf_rand_cv.best_params_['n_estimators'] ,\n",
    "                                                                max_depth = rf_rand_cv.best_params_['max_depth'],\n",
    "                                                                max_features = rf_rand_cv.best_params_['max_features'],\n",
    "                                                                max_leaf_nodes = rf_rand_cv.best_params_['max_leaf_nodes'],\n",
    "                                                                max_samples = rf_rand_cv.best_params_['max_samples'],\n",
    "                                                                n_jobs = -1)\n",
    "randomforestCLF.fit(X_train[rfe.get_feature_names_out()], y_train)\n"
   ],
   "metadata": {
    "collapsed": false
   }
  },
  {
   "cell_type": "code",
   "execution_count": 111,
   "outputs": [],
   "source": [
    "def output_score(train,pred):\n",
    "    return accuracy_score(train, pred), f1_score(train, pred,average='macro'), recall_score(train, pred,average='macro'),precision_score(train, pred,average='macro',zero_division=0)"
   ],
   "metadata": {
    "collapsed": false
   }
  },
  {
   "cell_type": "code",
   "execution_count": 112,
   "outputs": [],
   "source": [
    "y_pred = randomforestCLF.predict(X_train[rfe.get_feature_names_out()])\n",
    "print(\"Train_pred_acc:\" + str(accuracy_score(y_train, y_pred)))\n",
    "print(\"Train_pred_f1:\" + str(f1_score(y_train, y_pred,average='macro')))\n",
    "print(\"Train_pred_recall:\" + str(recall_score(y_train, y_pred,average='macro')))\n",
    "print(\"Train_pred_precision:\" + str(precision_score(y_train, y_pred,average='macro',zero_division=0)))\n",
    "\n",
    "rf_acc, rf_f1, rf_recall, rf_pre = output_score(y_train,y_pred)\n",
    "\n"
   ],
   "metadata": {
    "collapsed": false
   }
  },
  {
   "cell_type": "code",
   "execution_count": 113,
   "outputs": [],
   "source": [
    "model_name.append('RF')\n",
    "acc.append(rf_acc)\n",
    "precision.append(rf_pre)\n",
    "f1.append(rf_f1)\n",
    "recall.append(rf_recall)"
   ],
   "metadata": {
    "collapsed": false
   }
  },
  {
   "cell_type": "code",
   "execution_count": 114,
   "outputs": [],
   "source": [
    "\n",
    "y_pred_test = randomforestCLF.predict(X_test[rfe.get_feature_names_out()])\n",
    "rf_acc, rf_f1, rf_recall, rf_pre = output_score(y_test,y_pred_test)\n",
    "\n",
    "\n",
    "\n",
    "acc_t.append(rf_acc)\n",
    "precision_t.append(rf_pre)\n",
    "f1_t.append(rf_f1)\n",
    "recall_t.append(rf_recall)\n"
   ],
   "metadata": {
    "collapsed": false
   }
  },
  {
   "cell_type": "markdown",
   "source": [
    "# Gradient Boost"
   ],
   "metadata": {
    "collapsed": false
   }
  },
  {
   "cell_type": "code",
   "execution_count": 115,
   "outputs": [],
   "source": [
    "rfe_gb = RFE(estimator=GradientBoostingClassifier(), n_features_to_select=10)\n",
    "# fit the model\n",
    "rfe_gb.fit(X, y)"
   ],
   "metadata": {
    "collapsed": false
   }
  },
  {
   "cell_type": "code",
   "execution_count": 116,
   "outputs": [],
   "source": [
    "rfe_gb.get_feature_names_out()"
   ],
   "metadata": {
    "collapsed": false
   }
  },
  {
   "cell_type": "code",
   "execution_count": 117,
   "outputs": [],
   "source": [
    "gradientB_clf = Pipeline(steps = [('scaler' , StandardScaler()) ,\n",
    "                                  ('gb' , GradientBoostingClassifier())])\n",
    "\n",
    "parameters_gb = { 'gb__learning_rate' : [0.01 , 0.001 , 0.1 , 0.5 , 1] ,\n",
    "                 'gb__n_estimators' : [100 , 200 , 300 , 400 , 500 , 750] ,\n",
    "                 'gb__subsample' : [0.5 , 0.1 , 1.0] ,\n",
    "                 'gb__criterion' : ['friedman_mse'] ,\n",
    "                 'gb__max_depth' : [1 , 2 , 5 , 7 , 10 , 15] ,\n",
    "                 'gb__max_features' : ['sqrt' , 'log2' , 2 , 5] ,\n",
    "                 'gb__max_leaf_nodes' : [None , 2 , 3 , 5 , 6 , 7 , 8 , 9 , 10]}\n",
    "\n",
    "gb_clf_randCV = RandomizedSearchCV(gradientB_clf , parameters_gb, n_iter=50, scoring='accuracy' , n_jobs = -1)\n",
    "gb_clf_randCV.fit(X_train[rfe_gb.get_feature_names_out()] , y_train)"
   ],
   "metadata": {
    "collapsed": false
   }
  },
  {
   "cell_type": "code",
   "execution_count": 118,
   "outputs": [],
   "source": [
    "gb_clf_randCV.best_params_"
   ],
   "metadata": {
    "collapsed": false
   }
  },
  {
   "cell_type": "code",
   "execution_count": 119,
   "outputs": [],
   "source": [
    "gradientB_clf = GradientBoostingClassifier(learning_rate = gb_clf_randCV.best_params_['gb__learning_rate'],\n",
    "                                                                     max_depth = gb_clf_randCV.best_params_['gb__max_depth'],\n",
    "                                                                     max_features = gb_clf_randCV.best_params_['gb__max_features'],\n",
    "                                                                     max_leaf_nodes = gb_clf_randCV.best_params_['gb__max_leaf_nodes'],\n",
    "                                                                     n_estimators = gb_clf_randCV.best_params_['gb__n_estimators'],random_state=13)\n",
    "\n",
    "gradientB_clf.fit(X_train[rfe_gb.get_feature_names_out()], y_train)"
   ],
   "metadata": {
    "collapsed": false
   }
  },
  {
   "cell_type": "code",
   "execution_count": 120,
   "outputs": [],
   "source": [
    "\n",
    "y_pred = gradientB_clf.predict(X_train[rfe_gb.get_feature_names_out()])\n",
    "print(\"Train_pred:\" + str(accuracy_score(y_train, y_pred)))\n",
    "\n",
    "\n",
    "gb_acc, gb_f1, gb_recall, gb_pre = output_score(y_train,y_pred)\n",
    "\n",
    "\n",
    "model_name.append('gb')\n",
    "acc.append(gb_acc)\n",
    "precision.append(gb_pre)\n",
    "f1.append(gb_f1)\n",
    "recall.append(gb_recall)\n"
   ],
   "metadata": {
    "collapsed": false
   }
  },
  {
   "cell_type": "code",
   "execution_count": 121,
   "outputs": [],
   "source": [
    "\n",
    "y_pred_test = gradientB_clf.predict(X_test[rfe_gb.get_feature_names_out()])\n",
    "print(\"Test_pred:\" + str(accuracy_score(y_test, y_pred_test)))\n",
    "\n",
    "gb_acc, gb_f1, gb_recall, gb_pre = output_score(y_test,y_pred_test)\n",
    "\n",
    "\n",
    "\n",
    "acc_t.append(gb_acc)\n",
    "precision_t.append(gb_pre)\n",
    "f1_t.append(gb_f1)\n",
    "recall_t.append(gb_recall)\n",
    "\n",
    "\n",
    "print(gradientB_clf.feature_importances_)"
   ],
   "metadata": {
    "collapsed": false
   }
  },
  {
   "cell_type": "markdown",
   "source": [
    "# xGBoost"
   ],
   "metadata": {
    "collapsed": false
   }
  },
  {
   "cell_type": "code",
   "execution_count": 122,
   "outputs": [],
   "source": [
    "rfe_xgb = RFE(estimator=XGBClassifier(), n_features_to_select=10)\n",
    "# fit the model\n",
    "rfe_xgb.fit(X, y-1)"
   ],
   "metadata": {
    "collapsed": false
   }
  },
  {
   "cell_type": "code",
   "execution_count": 123,
   "outputs": [],
   "source": [
    "from scipy import stats\n",
    "\n",
    "param_grid = {\n",
    "    'learning_rate': [0.2, 0.1],\n",
    "    'num_leaves': [25, 35],\n",
    "    'max_depth': [10, 12]\n",
    "}\n",
    "\n",
    "param_dist = {\n",
    "    'learning_rate': stats.uniform(0.09, 0.25),\n",
    "    'num_leaves': stats.randint(20,40),\n",
    "    'max_depth': [10, 12]\n",
    "}\n",
    "\n",
    "param_dist_hyperopt = {\n",
    "    'max_depth': 15 + hp.randint('num_leaves', 5),\n",
    "    'learning_rate': hp.loguniform('learning_rate', np.log(0.01), np.log(0.2)),\n",
    "    'colsample_bytree': hp.uniform('colsample_by_tree', 0.6, 1.0)\n",
    "}\n",
    "\n",
    "clf_xgb = XGBClassifier(n_estimators=150, tree_method=\"approx\", enable_categorical=True, random_state=0, verbosity=0, n_jobs=-1)"
   ],
   "metadata": {
    "collapsed": false
   }
  },
  {
   "cell_type": "code",
   "execution_count": 124,
   "outputs": [],
   "source": [
    "# Use Shap hypertune to find xgb param\n",
    "\n",
    "model = BoostSearch(clf_xgb, param_grid=param_grid)\n",
    "model.fit(X_train[rfe_xgb.get_feature_names_out()], y_train-1, eval_set=[(X_test[rfe_xgb.get_feature_names_out()], y_test-1)], verbose=0)"
   ],
   "metadata": {
    "collapsed": false
   }
  },
  {
   "cell_type": "code",
   "execution_count": 125,
   "outputs": [],
   "source": [
    "model.estimator_, model.best_params_, model.best_score_"
   ],
   "metadata": {
    "collapsed": false
   }
  },
  {
   "cell_type": "code",
   "execution_count": 126,
   "outputs": [],
   "source": [
    "model.score(X_test[rfe_xgb.get_feature_names_out()], y_test-1)"
   ],
   "metadata": {
    "collapsed": false
   }
  },
  {
   "cell_type": "code",
   "execution_count": 127,
   "outputs": [],
   "source": [
    "xgb_best = XGBClassifier(n_estimators=150, tree_method=\"approx\",\n",
    "                         learning_rate = model.best_params_['learning_rate'],\n",
    "                         num_leaves = model.best_params_['num_leaves'],\n",
    "                         max_depth = model.best_params_['max_depth'],\n",
    "                         enable_categorical=True, random_state=0, verbosity=0, n_jobs=-1)\n",
    "\n",
    "xgb_best.fit(X_train[rfe_xgb.get_feature_names_out()],y_train-1)\n"
   ],
   "metadata": {
    "collapsed": false
   }
  },
  {
   "cell_type": "code",
   "execution_count": 128,
   "outputs": [],
   "source": [
    "\n",
    "pred = xgb_best.predict(X_train[rfe_xgb.get_feature_names_out()])\n",
    "\n",
    "xgb_acc, xgb_f1, xgb_recall, xgb_pre = output_score(y_train-1,pred)\n",
    "\n"
   ],
   "metadata": {
    "collapsed": false
   }
  },
  {
   "cell_type": "code",
   "execution_count": 129,
   "outputs": [],
   "source": [
    "model_name.append('xgb')\n",
    "\n",
    "acc.append(xgb_acc)\n",
    "precision.append(xgb_pre)\n",
    "f1.append(xgb_f1)\n",
    "recall.append(xgb_recall)"
   ],
   "metadata": {
    "collapsed": false
   }
  },
  {
   "cell_type": "code",
   "execution_count": 130,
   "outputs": [],
   "source": [
    "\n",
    "pred = xgb_best.predict(X_test[rfe_xgb.get_feature_names_out()])\n",
    "\n",
    "xgb_acc, xgb_f1, xgb_recall, xgb_pre = output_score(y_test-1,pred)\n",
    "\n",
    "\n",
    "acc_t.append(xgb_acc)\n",
    "precision_t.append(xgb_pre)\n",
    "f1_t.append(xgb_f1)\n",
    "recall_t.append(xgb_recall)"
   ],
   "metadata": {
    "collapsed": false
   }
  },
  {
   "cell_type": "code",
   "execution_count": 131,
   "outputs": [],
   "source": [
    "xgb_best.feature_importances_"
   ],
   "metadata": {
    "collapsed": false
   }
  },
  {
   "cell_type": "markdown",
   "metadata": {},
   "source": [
    "## GaussianNB"
   ]
  },
  {
   "cell_type": "code",
   "execution_count": 132,
   "metadata": {
    "id": "2ECYCCIzjgeZ"
   },
   "outputs": [],
   "source": [
    "gnb = GaussianNB()"
   ]
  },
  {
   "cell_type": "code",
   "execution_count": 133,
   "metadata": {
    "colab": {
     "base_uri": "https://localhost:8080/"
    },
    "id": "9RtJbxv8jsrN",
    "outputId": "2da77a00-11c1-48fe-e55c-ff94e2f53921"
   },
   "outputs": [],
   "source": [
    "pred = gnb.fit(X_train, y_train).predict(X_train)\n",
    "gnb_acc, gnb_f1, gnb_recall, gnb_pre = output_score(y_train-1,pred)\n",
    "model_name.append('gnb')\n",
    "\n",
    "acc.append(gnb_acc)\n",
    "precision.append(gnb_pre)\n",
    "f1.append(gnb_f1)\n",
    "recall.append(gnb_recall)\n",
    "\n",
    "pred = gnb.fit(X_train, y_train).predict(X_test)\n",
    "\n",
    "gnb_acc, gnb_f1, gnb_recall, gnb_pre = output_score(y_test-1,pred)\n",
    "\n",
    "\n",
    "acc_t.append(gnb_acc)\n",
    "precision_t.append(gnb_pre)\n",
    "f1_t.append(gnb_f1)\n",
    "recall_t.append(gnb_recall)"
   ]
  },
  {
   "cell_type": "markdown",
   "metadata": {},
   "source": [
    "## Random forest"
   ]
  },
  {
   "cell_type": "markdown",
   "metadata": {},
   "source": [
    "## Extra Trees Classifier"
   ]
  },
  {
   "cell_type": "code",
   "execution_count": 134,
   "metadata": {},
   "outputs": [],
   "source": [
    "from sklearn.ensemble import ExtraTreesClassifier\n",
    "etc = ExtraTreesClassifier()\n",
    "\n",
    "pred = etc.fit(X_train, y_train).predict(X_train)\n",
    "etc_acc, etc_f1, etc_recall, etc_pre = output_score(y_train-1,pred)\n",
    "model_name.append('etc')\n",
    "\n",
    "acc.append(etc_acc)\n",
    "precision.append(etc_pre)\n",
    "f1.append(etc_f1)\n",
    "recall.append(etc_recall)\n",
    "\n",
    "pred = etc.fit(X_train, y_train).predict(X_test)\n",
    "\n",
    "etc_acc, etc_f1, etc_recall, etc_pre = output_score(y_test-1,pred)\n",
    "\n",
    "\n",
    "acc_t.append(etc_acc)\n",
    "precision_t.append(etc_pre)\n",
    "f1_t.append(etc_f1)\n",
    "recall_t.append(etc_recall)"
   ]
  },
  {
   "cell_type": "markdown",
   "metadata": {},
   "source": [
    "## SGD"
   ]
  },
  {
   "cell_type": "code",
   "execution_count": 135,
   "metadata": {
    "id": "aU-JZ8I68fUE"
   },
   "outputs": [],
   "source": [
    "clf = make_pipeline(StandardScaler(), SGDClassifier(max_iter=1000, tol=1e-3, alpha=1, penalty='l1'))\n",
    "preds = clf.fit(X_train, y_train).predict(X_test)"
   ]
  },
  {
   "cell_type": "code",
   "execution_count": 136,
   "metadata": {
    "colab": {
     "base_uri": "https://localhost:8080/"
    },
    "id": "R8Yr7aMz_B2p",
    "outputId": "ab16e020-0634-48fc-c145-7b8390840edf"
   },
   "outputs": [],
   "source": [
    "param_grid = {'alpha' : [.001,.01,.1,1,10,100],\n",
    "              'penalty': ['l2', 'l1', 'elasticnet', None]}\n",
    "\n",
    "gridsearch = GridSearchCV(SGDClassifier(max_iter=1000, tol=1e-3), param_grid, cv=10).fit(X_train, y_train)"
   ]
  },
  {
   "cell_type": "code",
   "execution_count": 137,
   "metadata": {
    "colab": {
     "base_uri": "https://localhost:8080/"
    },
    "id": "AaY_ljN3DXXL",
    "outputId": "499bc196-6ea4-4ab0-bee9-bfc0abdc7ba9"
   },
   "outputs": [],
   "source": [
    "gridsearch.best_params_"
   ]
  },
  {
   "cell_type": "code",
   "execution_count": 138,
   "metadata": {
    "id": "rASJTEJ177xY"
   },
   "outputs": [],
   "source": [
    "clf = make_pipeline(StandardScaler(), SGDClassifier(max_iter=1000, tol=1e-3, alpha=gridsearch.best_params_['alpha'], penalty=gridsearch.best_params_['penalty']))"
   ]
  },
  {
   "cell_type": "code",
   "execution_count": 139,
   "metadata": {
    "colab": {
     "base_uri": "https://localhost:8080/"
    },
    "id": "uFK6T_UQ9aOu",
    "outputId": "89c108f0-47bd-4942-a8f3-a818df35dc4c"
   },
   "outputs": [],
   "source": [
    "pred = clf.fit(X_train, y_train).predict(X_train)\n",
    "clf_acc, clf_f1, clf_recall, clf_pre = output_score(y_train-1,pred)\n",
    "model_name.append('clf')\n",
    "\n",
    "acc.append(clf_acc)\n",
    "precision.append(clf_pre)\n",
    "f1.append(clf_f1)\n",
    "recall.append(clf_recall)\n",
    "\n",
    "pred = clf.fit(X_train, y_train).predict(X_test)\n",
    "\n",
    "clf_acc, clf_f1, clf_recall, clf_pre = output_score(y_test-1,pred)\n",
    "\n",
    "\n",
    "acc_t.append(clf_acc)\n",
    "precision_t.append(clf_pre)\n",
    "f1_t.append(clf_f1)\n",
    "recall_t.append(clf_recall)"
   ]
  },
  {
   "cell_type": "markdown",
   "metadata": {},
   "source": [
    "# Feature Selection"
   ]
  },
  {
   "cell_type": "code",
   "execution_count": 140,
   "outputs": [],
   "source": [
    "#model0 = SelectFromModel(clf, prefit=True)"
   ],
   "metadata": {
    "collapsed": false
   }
  },
  {
   "cell_type": "code",
   "execution_count": 141,
   "outputs": [],
   "source": [
    "#X_train_new = model0.transform(X_train)"
   ],
   "metadata": {
    "collapsed": false
   }
  },
  {
   "cell_type": "code",
   "execution_count": 142,
   "outputs": [],
   "source": [
    "#feature_names = X_train.columns[model0.get_support()]"
   ],
   "metadata": {
    "collapsed": false
   }
  },
  {
   "cell_type": "code",
   "execution_count": 143,
   "outputs": [],
   "source": [
    "#print('Feature Names \\n',feature_names)"
   ],
   "metadata": {
    "collapsed": false
   }
  },
  {
   "cell_type": "code",
   "execution_count": 144,
   "outputs": [],
   "source": [
    "#X_test_new = X_test[feature_names]"
   ],
   "metadata": {
    "collapsed": false
   }
  },
  {
   "cell_type": "code",
   "execution_count": 145,
   "outputs": [],
   "source": [
    "#X_test_new = X_test[['Open','GDP','unemployment_rate', 'year', 'Hires_jolts',\n",
    "#       'Layoffs_jolts', 'Hire_quite_jolts', 'Job_seekers_ratio', 'Industry_Consumer Discretionary Select Sector SPDR Fund', 'Industry_Energy Select Sector SPDR Fund','Industry_Financial Select Sector SPDR Fund','Industry_Industrial Select Sector SPDR Fund','Industry_Materials Select Sector SPDR Fund','Industry_Utilities Select Sector SPDR Fund']]"
   ],
   "metadata": {
    "collapsed": false
   }
  },
  {
   "cell_type": "code",
   "execution_count": 146,
   "outputs": [],
   "source": [
    "#MLR0 = LinearRegression().fit(X_train_new, y_train)\n",
    "#preds = MLR0.predict(X_test_new)"
   ],
   "metadata": {
    "collapsed": false
   }
  },
  {
   "cell_type": "code",
   "execution_count": 147,
   "outputs": [],
   "source": [
    "#preds = np.round(preds)"
   ],
   "metadata": {
    "collapsed": false
   }
  },
  {
   "cell_type": "code",
   "execution_count": 148,
   "outputs": [],
   "source": [
    "#y_test = y_test.cat.codes.astype(np.float64)"
   ],
   "metadata": {
    "collapsed": false
   }
  },
  {
   "cell_type": "code",
   "execution_count": 149,
   "outputs": [],
   "source": [
    "#accuracy_score(preds,y_test)"
   ],
   "metadata": {
    "collapsed": false
   }
  },
  {
   "cell_type": "markdown",
   "source": [
    "# Kernel SVM"
   ],
   "metadata": {
    "collapsed": false
   }
  },
  {
   "cell_type": "code",
   "execution_count": 150,
   "outputs": [],
   "source": [
    "svm = SVC(kernel=\"rbf\")\n",
    "\n",
    "\n",
    "pred = svm.fit(X_train, y_train).predict(X_train)\n",
    "svm_acc, svm_f1, svm_recall, svm_pre = output_score(y_train-1,pred)\n",
    "model_name.append('svm')\n",
    "\n",
    "acc.append(svm_acc)\n",
    "precision.append(svm_pre)\n",
    "f1.append(svm_f1)\n",
    "recall.append(svm_recall)\n",
    "\n",
    "pred = svm.fit(X_train, y_train).predict(X_test)\n",
    "\n",
    "svm_acc, svm_f1, svm_recall, svm_pre = output_score(y_test-1,pred)\n",
    "\n",
    "\n",
    "acc_t.append(svm_acc)\n",
    "precision_t.append(svm_pre)\n",
    "f1_t.append(svm_f1)\n",
    "recall_t.append(svm_recall)\n",
    "\n"
   ],
   "metadata": {
    "collapsed": false
   }
  },
  {
   "cell_type": "markdown",
   "source": [
    "# Neural Net"
   ],
   "metadata": {
    "collapsed": false
   }
  },
  {
   "cell_type": "code",
   "execution_count": 151,
   "outputs": [],
   "source": [
    "nn = MLPClassifier(alpha=1, hidden_layer_sizes = (20, 10))\n",
    "\n",
    "pred = nn.fit(X_train, y_train).predict(X_train)\n",
    "nn_acc, nn_f1, nn_recall, nn_pre = output_score(y_train-1,pred)\n",
    "model_name.append('nn')\n",
    "\n",
    "acc.append(nn_acc)\n",
    "precision.append(nn_pre)\n",
    "f1.append(nn_f1)\n",
    "recall.append(nn_recall)\n",
    "\n",
    "pred = nn.fit(X_train, y_train).predict(X_test)\n",
    "\n",
    "nn_acc, nn_f1, nn_recall, nn_pre = output_score(y_test-1,pred)\n",
    "\n",
    "\n",
    "acc_t.append(nn_acc)\n",
    "precision_t.append(nn_pre)\n",
    "f1_t.append(nn_f1)\n",
    "recall_t.append(nn_recall)\n",
    "\n"
   ],
   "metadata": {
    "collapsed": false
   }
  },
  {
   "cell_type": "code",
   "execution_count": 156,
   "outputs": [],
   "source": [
    "df_train = pd.DataFrame(data={'accuracy':acc,\n",
    "                              'precision': precision,\n",
    "                              'F1': f1,\n",
    "                              'recall': recall},\n",
    "                        index=model_name)\n",
    "\n",
    "print(df_train)"
   ],
   "metadata": {
    "collapsed": false
   }
  },
  {
   "cell_type": "code",
   "execution_count": 154,
   "outputs": [],
   "source": [
    "df_test = pd.DataFrame(data={'accuracy':acc_t,\n",
    "                              'precision': precision_t,\n",
    "                              'F1': f1_t,\n",
    "                              'recall': recall_t},\n",
    "                        index=model_name)\n",
    "\n",
    "df_test"
   ],
   "metadata": {
    "collapsed": false
   }
  }
 ],
 "metadata": {
  "colab": {
   "provenance": []
  },
  "kernelspec": {
   "display_name": "Python 3 (ipykernel)",
   "language": "python",
   "name": "python3"
  },
  "language_info": {
   "codemirror_mode": {
    "name": "ipython",
    "version": 3
   },
   "file_extension": ".py",
   "mimetype": "text/x-python",
   "name": "python",
   "nbconvert_exporter": "python",
   "pygments_lexer": "ipython3",
   "version": "3.10.7"
  }
 },
 "nbformat": 4,
 "nbformat_minor": 1
}
