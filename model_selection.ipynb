{
 "cells": [
  {
   "cell_type": "code",
   "execution_count": 61,
   "metadata": {
    "id": "-KEpEBrx6Cn8"
   },
   "outputs": [],
   "source": [
    "import pandas as pd\n",
    "import numpy as np\n",
    "\n",
    "import matplotlib.pyplot as plt\n",
    "from sklearn.linear_model import LinearRegression, SGDClassifier\n",
    "from sklearn.model_selection import train_test_split\n",
    "from sklearn.metrics import mean_squared_error, r2_score, mean_absolute_error, accuracy_score, f1_score\n",
    "import statsmodels.api as sm\n",
    "from sklearn.feature_selection import SelectFromModel\n",
    "\n",
    "from sklearn.naive_bayes import GaussianNB\n",
    "\n",
    "from sklearn.preprocessing import StandardScaler\n",
    "from sklearn.pipeline import make_pipeline\n",
    "from sklearn.model_selection import GridSearchCV\n",
    "from sklearn import metrics\n",
    "from sklearn.svm import SVC\n",
    "from sklearn.neural_network import MLPClassifier\n",
    "import seaborn as sns\n",
    "from datetime import datetime as dt\n",
    "from sklearn.preprocessing import StandardScaler\n",
    "from sklearn.feature_selection import SelectFromModel\n",
    "\n",
    "from sklearn.model_selection import train_test_split\n",
    "from sklearn import preprocessing\n",
    "from sklearn.feature_selection import RFE\n",
    "\n",
    "from xgboost import *\n",
    "from hyperopt import hp\n",
    "\n",
    "from sklearn.ensemble import RandomForestClassifier, GradientBoostingClassifier\n",
    "from sklearn.metrics import classification_report, confusion_matrix, accuracy_score, precision_score, recall_score, \\\n",
    "    f1_score, roc_auc_score\n",
    "from sklearn.model_selection import cross_val_score\n",
    "from shaphypetune import BoostSearch, BoostRFE, BoostRFA, BoostBoruta\n",
    "\n",
    "from sklearn.model_selection import RandomizedSearchCV\n",
    "from sklearn.pipeline import Pipeline"
   ]
  },
  {
   "cell_type": "markdown",
   "metadata": {
    "id": "l0rewj2GPNK5"
   },
   "source": [
    "# Load data and clean"
   ]
  },
  {
   "cell_type": "code",
   "execution_count": 2,
   "metadata": {
    "id": "v7Rhgkdo6GkF"
   },
   "outputs": [
    {
     "data": {
      "text/plain": "   Number of Workers                                        Industry   \n0              489.0  Consumer Discretionary Select Sector SPDR Fund  \\\n1               96.0  Consumer Discretionary Select Sector SPDR Fund   \n2               95.0  Consumer Discretionary Select Sector SPDR Fund   \n3               87.0  Consumer Discretionary Select Sector SPDR Fund   \n4               75.0  Consumer Discretionary Select Sector SPDR Fund   \n\n       Open       High        Low      Close      Volume       CPI    PPI   \n0  123.1900  124.33000  121.18000  121.49000  12360390.0  2.334874  196.7  \\\n1   27.4344   27.71252   26.96252   27.22188    124920.0  2.334874  196.7   \n2   27.4344   27.71252   26.96252   27.22188    124920.0  2.334874  196.7   \n3   27.4344   27.71252   26.96252   27.22188    124920.0  2.334874  196.7   \n4   27.4344   27.71252   26.96252   27.22188    124920.0  2.334874  196.7   \n\n   GDP  ...     Date  Hire_quite_jolts  Job_seekers_ratio  hires_sm  quits_sm   \n0  1.6  ...  2020-02               1.7               0.82  3.933333  2.333333  \\\n1  1.6  ...  2020-02               1.7               0.82  3.933333  2.333333   \n2  1.6  ...  2020-02               1.7               0.82  3.933333  2.333333   \n3  1.6  ...  2020-02               1.7               0.82  3.933333  2.333333   \n4  1.6  ...  2020-02               1.7               0.82  3.933333  2.333333   \n\n   layoffs_sm   actual_hire  log_num_of_workers  layoff_category_by_log   \n0    1.266667  27556.933333            6.192362                       3  \\\n1    1.266667  27556.933333            4.564348                       3   \n2    1.266667  27556.933333            4.553877                       3   \n3    1.266667  27556.933333            4.465908                       3   \n4    1.266667  27556.933333            4.317488                       3   \n\n  layoff_category_by_num  \n0                      3  \n1                      2  \n2                      2  \n3                      2  \n4                      2  \n\n[5 rows x 30 columns]",
      "text/html": "<div>\n<style scoped>\n    .dataframe tbody tr th:only-of-type {\n        vertical-align: middle;\n    }\n\n    .dataframe tbody tr th {\n        vertical-align: top;\n    }\n\n    .dataframe thead th {\n        text-align: right;\n    }\n</style>\n<table border=\"1\" class=\"dataframe\">\n  <thead>\n    <tr style=\"text-align: right;\">\n      <th></th>\n      <th>Number of Workers</th>\n      <th>Industry</th>\n      <th>Open</th>\n      <th>High</th>\n      <th>Low</th>\n      <th>Close</th>\n      <th>Volume</th>\n      <th>CPI</th>\n      <th>PPI</th>\n      <th>GDP</th>\n      <th>...</th>\n      <th>Date</th>\n      <th>Hire_quite_jolts</th>\n      <th>Job_seekers_ratio</th>\n      <th>hires_sm</th>\n      <th>quits_sm</th>\n      <th>layoffs_sm</th>\n      <th>actual_hire</th>\n      <th>log_num_of_workers</th>\n      <th>layoff_category_by_log</th>\n      <th>layoff_category_by_num</th>\n    </tr>\n  </thead>\n  <tbody>\n    <tr>\n      <th>0</th>\n      <td>489.0</td>\n      <td>Consumer Discretionary Select Sector SPDR Fund</td>\n      <td>123.1900</td>\n      <td>124.33000</td>\n      <td>121.18000</td>\n      <td>121.49000</td>\n      <td>12360390.0</td>\n      <td>2.334874</td>\n      <td>196.7</td>\n      <td>1.6</td>\n      <td>...</td>\n      <td>2020-02</td>\n      <td>1.7</td>\n      <td>0.82</td>\n      <td>3.933333</td>\n      <td>2.333333</td>\n      <td>1.266667</td>\n      <td>27556.933333</td>\n      <td>6.192362</td>\n      <td>3</td>\n      <td>3</td>\n    </tr>\n    <tr>\n      <th>1</th>\n      <td>96.0</td>\n      <td>Consumer Discretionary Select Sector SPDR Fund</td>\n      <td>27.4344</td>\n      <td>27.71252</td>\n      <td>26.96252</td>\n      <td>27.22188</td>\n      <td>124920.0</td>\n      <td>2.334874</td>\n      <td>196.7</td>\n      <td>1.6</td>\n      <td>...</td>\n      <td>2020-02</td>\n      <td>1.7</td>\n      <td>0.82</td>\n      <td>3.933333</td>\n      <td>2.333333</td>\n      <td>1.266667</td>\n      <td>27556.933333</td>\n      <td>4.564348</td>\n      <td>3</td>\n      <td>2</td>\n    </tr>\n    <tr>\n      <th>2</th>\n      <td>95.0</td>\n      <td>Consumer Discretionary Select Sector SPDR Fund</td>\n      <td>27.4344</td>\n      <td>27.71252</td>\n      <td>26.96252</td>\n      <td>27.22188</td>\n      <td>124920.0</td>\n      <td>2.334874</td>\n      <td>196.7</td>\n      <td>1.6</td>\n      <td>...</td>\n      <td>2020-02</td>\n      <td>1.7</td>\n      <td>0.82</td>\n      <td>3.933333</td>\n      <td>2.333333</td>\n      <td>1.266667</td>\n      <td>27556.933333</td>\n      <td>4.553877</td>\n      <td>3</td>\n      <td>2</td>\n    </tr>\n    <tr>\n      <th>3</th>\n      <td>87.0</td>\n      <td>Consumer Discretionary Select Sector SPDR Fund</td>\n      <td>27.4344</td>\n      <td>27.71252</td>\n      <td>26.96252</td>\n      <td>27.22188</td>\n      <td>124920.0</td>\n      <td>2.334874</td>\n      <td>196.7</td>\n      <td>1.6</td>\n      <td>...</td>\n      <td>2020-02</td>\n      <td>1.7</td>\n      <td>0.82</td>\n      <td>3.933333</td>\n      <td>2.333333</td>\n      <td>1.266667</td>\n      <td>27556.933333</td>\n      <td>4.465908</td>\n      <td>3</td>\n      <td>2</td>\n    </tr>\n    <tr>\n      <th>4</th>\n      <td>75.0</td>\n      <td>Consumer Discretionary Select Sector SPDR Fund</td>\n      <td>27.4344</td>\n      <td>27.71252</td>\n      <td>26.96252</td>\n      <td>27.22188</td>\n      <td>124920.0</td>\n      <td>2.334874</td>\n      <td>196.7</td>\n      <td>1.6</td>\n      <td>...</td>\n      <td>2020-02</td>\n      <td>1.7</td>\n      <td>0.82</td>\n      <td>3.933333</td>\n      <td>2.333333</td>\n      <td>1.266667</td>\n      <td>27556.933333</td>\n      <td>4.317488</td>\n      <td>3</td>\n      <td>2</td>\n    </tr>\n  </tbody>\n</table>\n<p>5 rows × 30 columns</p>\n</div>"
     },
     "execution_count": 2,
     "metadata": {},
     "output_type": "execute_result"
    }
   ],
   "source": [
    "df = pd.read_csv('Layoff.csv',encoding='cp1252')\n",
    "df = df.drop(['Company', 'City', 'State', 'Closure/Layoff','Temporary/Permanent', 'Effective Date','Union','Region','County'], axis=1)\n",
    "df['WARN Received Date'] = pd.to_datetime(df['WARN Received Date'])\n",
    "df['by_month'] = df['WARN Received Date'].dt.strftime(\"%Y-%m\")\n",
    "df = df.drop(['WARN Received Date'], axis=1)\n",
    "df = df[(df.by_month<'2020-03')|(df.by_month>'2021-09')].copy()\n",
    "# Check for missing values\n",
    "df.isna().sum()\n",
    "df.head()"
   ]
  },
  {
   "cell_type": "code",
   "execution_count": 3,
   "outputs": [
    {
     "data": {
      "text/plain": "Number of Workers         float64\nIndustry                   object\nOpen                      float64\nHigh                      float64\nLow                       float64\nClose                     float64\nVolume                    float64\nCPI                       float64\nPPI                       float64\nGDP                       float64\nunemployment_rate         float64\njob_nonfam                  int64\njob_IT                      int64\njob_service                 int64\njob_retail                  int64\njob_education_health        int64\nfed_rate                  float64\nPPI_chg                   float64\nPPI_CPI                   float64\nby_month                   object\nDate                       object\nHire_quite_jolts          float64\nJob_seekers_ratio         float64\nhires_sm                  float64\nquits_sm                  float64\nlayoffs_sm                float64\nactual_hire               float64\nlog_num_of_workers        float64\nlayoff_category_by_log      int64\nlayoff_category_by_num      int64\ndtype: object"
     },
     "execution_count": 3,
     "metadata": {},
     "output_type": "execute_result"
    }
   ],
   "source": [
    "df.dtypes"
   ],
   "metadata": {
    "collapsed": false
   }
  },
  {
   "cell_type": "code",
   "execution_count": 4,
   "metadata": {
    "colab": {
     "base_uri": "https://localhost:8080/"
    },
    "id": "fwBKBvyrf0Il",
    "outputId": "f8c633e4-86d6-44db-e5ad-b6783875292a"
   },
   "outputs": [
    {
     "data": {
      "text/plain": "0.25     15.0\n0.50     52.0\n0.75    100.0\nName: Number of Workers, dtype: float64"
     },
     "execution_count": 4,
     "metadata": {},
     "output_type": "execute_result"
    }
   ],
   "source": [
    "quantiles = df['Number of Workers'].quantile([0.25, 0.5, 0.75])\n",
    "quantiles"
   ]
  },
  {
   "cell_type": "code",
   "execution_count": 5,
   "metadata": {
    "id": "U_-ZT9Yof4jy"
   },
   "outputs": [],
   "source": [
    "df['layoff_category_quantile'] = pd.cut(df['Number of Workers'], bins=[0, quantiles.iloc[0], quantiles.iloc[1], df['Number of Workers'].max()], labels=[1,2,3])"
   ]
  },
  {
   "cell_type": "markdown",
   "metadata": {
    "id": "wYwPjmhEPGmB"
   },
   "source": [
    "# Exploratory Data Analysis"
   ]
  },
  {
   "cell_type": "code",
   "execution_count": 6,
   "metadata": {
    "colab": {
     "base_uri": "https://localhost:8080/",
     "height": 1000
    },
    "id": "51IRsvRP8mHa",
    "outputId": "ef38917e-62cb-42f5-dd92-b094e499b489"
   },
   "outputs": [
    {
     "data": {
      "text/plain": "<Figure size 2000x2000 with 4 Axes>",
      "image/png": "[encoded data removed]"
     },
     "metadata": {},
     "output_type": "display_data"
    }
   ],
   "source": [
    "df2 = df[['unemployment_rate', 'GDP', 'fed_rate', 'log_num_of_workers']]\n",
    "df2.hist(figsize=(20,20))\n",
    "plt.savefig('plots/histogram.pdf')"
   ]
  },
  {
   "cell_type": "code",
   "execution_count": 7,
   "metadata": {
    "colab": {
     "base_uri": "https://localhost:8080/",
     "height": 1000
    },
    "id": "r9JOA_HU806d",
    "outputId": "1d3c519b-a6de-4f51-9dbd-f8ee8853718c"
   },
   "outputs": [],
   "source": [
    "#fig, ax = plt.subplots(figsize=(15,15))\n",
    "#sns.heatmap(df.corr(), annot=True, ax=ax)"
   ]
  },
  {
   "cell_type": "code",
   "execution_count": 8,
   "metadata": {
    "colab": {
     "base_uri": "https://localhost:8080/",
     "height": 449
    },
    "id": "JTxqF7xa82yu",
    "outputId": "ae76db1b-1dbe-4b39-b58d-69e0d2af9355"
   },
   "outputs": [],
   "source": [
    "# Visualize the relationship between two numerical columns using a scatter plot\n",
    "#plt.scatter(df['GDP'], df['unemployment_rate'])\n",
    "#plt.xlabel('GDP')\n",
    "#plt.ylabel('Unemployment Rate')\n",
    "#plt.savefig('plots/GDP_unemployment.pdf')"
   ]
  },
  {
   "cell_type": "code",
   "execution_count": 9,
   "metadata": {
    "colab": {
     "base_uri": "https://localhost:8080/",
     "height": 850
    },
    "id": "luak4RzsAJDR",
    "outputId": "79c0c380-8ba0-4099-87e3-d7ef60fce5a5"
   },
   "outputs": [],
   "source": [
    "#sortedDF = df.sort_values(by=['WARN Received Date'], ascending=True)\n",
    "#fig, ax = plt.subplots(figsize=(10, 10))\n",
    " \n",
    "#plt.plot(sortedDF['WARN Received Date'], sortedDF['Number of Workers'])\n",
    "#plt.xlabel('Layoff Date')\n",
    "#plt.ylabel('# of Employees affected')\n",
    "#plt.show()"
   ]
  },
  {
   "cell_type": "markdown",
   "metadata": {
    "id": "w68LEVdtO_5n"
   },
   "source": [
    "# Feature Engineering\n"
   ]
  },
  {
   "cell_type": "code",
   "execution_count": 10,
   "outputs": [],
   "source": [
    "df['Price Volatility'] = df['High'] - df['Low']\n",
    "df['total_layoff'] = df.groupby(['by_month'])['Number of Workers'].transform(sum)"
   ],
   "metadata": {
    "collapsed": false
   }
  },
  {
   "cell_type": "code",
   "execution_count": 11,
   "outputs": [],
   "source": [
    "df_col = [#'State', 'Company', 'City', 'Number of Workers', 'WARN Received Date','Effective Date', 'Closure/Layoff', 'Temporary/Permanent', 'Union','by_month', 'Date','Region', 'County',\n",
    "       'Industry', 'Open', 'High', 'Low', 'Close',\n",
    "       'Volume', 'CPI', 'PPI', 'GDP', 'unemployment_rate', 'job_nonfam',\n",
    "       'job_IT', 'job_service', 'job_retail', 'job_education_health',\n",
    "       'fed_rate', 'PPI_chg', 'PPI_CPI',\n",
    "       'Hire_quite_jolts', 'Job_seekers_ratio', 'hires_sm', 'quits_sm',\n",
    "       'layoffs_sm', 'actual_hire',\n",
    "       'layoff_category_by_log', 'layoff_category_by_num' ]\n",
    "df = df[df_col].copy()"
   ],
   "metadata": {
    "collapsed": false
   }
  },
  {
   "cell_type": "code",
   "execution_count": 12,
   "metadata": {
    "id": "P03m0UCRPnvx"
   },
   "outputs": [],
   "source": [
    "le = preprocessing.LabelEncoder()\n",
    "df['Industry']=le.fit_transform(df['Industry'])\n",
    "df['Industry'] = df['Industry'].astype('category')"
   ]
  },
  {
   "cell_type": "markdown",
   "metadata": {},
   "source": [
    "# ML Models"
   ]
  },
  {
   "cell_type": "code",
   "execution_count": 13,
   "outputs": [],
   "source": [
    "X = df.iloc[:,:-2]\n",
    "y = df.iloc[:,-1]"
   ],
   "metadata": {
    "collapsed": false
   }
  },
  {
   "cell_type": "code",
   "execution_count": 14,
   "metadata": {
    "id": "B_7ZzoO9RIiO"
   },
   "outputs": [],
   "source": [
    "X_train, X_test, y_train, y_test = train_test_split(X,y, test_size=0.3, random_state=77, stratify=df['layoff_category_by_num'])\n",
    "model_name = []\n",
    "acc = []\n",
    "precision = []\n",
    "f1 = []\n",
    "recall = []\n",
    "\n",
    "\n",
    "acc_t = []\n",
    "precision_t = []\n",
    "f1_t = []\n",
    "recall_t = []"
   ]
  },
  {
   "cell_type": "markdown",
   "source": [
    "# Random Forest"
   ],
   "metadata": {
    "collapsed": false
   }
  },
  {
   "cell_type": "code",
   "execution_count": 15,
   "outputs": [
    {
     "data": {
      "text/plain": "RFE(estimator=RandomForestClassifier(), n_features_to_select=10)",
      "text/html": "<style>#sk-container-id-1 {color: black;background-color: white;}#sk-container-id-1 pre{padding: 0;}#sk-container-id-1 div.sk-toggleable {background-color: white;}#sk-container-id-1 label.sk-toggleable__label {cursor: pointer;display: block;width: 100%;margin-bottom: 0;padding: 0.3em;box-sizing: border-box;text-align: center;}#sk-container-id-1 label.sk-toggleable__label-arrow:before {content: \"▸\";float: left;margin-right: 0.25em;color: #696969;}#sk-container-id-1 label.sk-toggleable__label-arrow:hover:before {color: black;}#sk-container-id-1 div.sk-estimator:hover label.sk-toggleable__label-arrow:before {color: black;}#sk-container-id-1 div.sk-toggleable__content {max-height: 0;max-width: 0;overflow: hidden;text-align: left;background-color: #f0f8ff;}#sk-container-id-1 div.sk-toggleable__content pre {margin: 0.2em;color: black;border-radius: 0.25em;background-color: #f0f8ff;}#sk-container-id-1 input.sk-toggleable__control:checked~div.sk-toggleable__content {max-height: 200px;max-width: 100%;overflow: auto;}#sk-container-id-1 input.sk-toggleable__control:checked~label.sk-toggleable__label-arrow:before {content: \"▾\";}#sk-container-id-1 div.sk-estimator input.sk-toggleable__control:checked~label.sk-toggleable__label {background-color: #d4ebff;}#sk-container-id-1 div.sk-label input.sk-toggleable__control:checked~label.sk-toggleable__label {background-color: #d4ebff;}#sk-container-id-1 input.sk-hidden--visually {border: 0;clip: rect(1px 1px 1px 1px);clip: rect(1px, 1px, 1px, 1px);height: 1px;margin: -1px;overflow: hidden;padding: 0;position: absolute;width: 1px;}#sk-container-id-1 div.sk-estimator {font-family: monospace;background-color: #f0f8ff;border: 1px dotted black;border-radius: 0.25em;box-sizing: border-box;margin-bottom: 0.5em;}#sk-container-id-1 div.sk-estimator:hover {background-color: #d4ebff;}#sk-container-id-1 div.sk-parallel-item::after {content: \"\";width: 100%;border-bottom: 1px solid gray;flex-grow: 1;}#sk-container-id-1 div.sk-label:hover label.sk-toggleable__label {background-color: #d4ebff;}#sk-container-id-1 div.sk-serial::before {content: \"\";position: absolute;border-left: 1px solid gray;box-sizing: border-box;top: 0;bottom: 0;left: 50%;z-index: 0;}#sk-container-id-1 div.sk-serial {display: flex;flex-direction: column;align-items: center;background-color: white;padding-right: 0.2em;padding-left: 0.2em;position: relative;}#sk-container-id-1 div.sk-item {position: relative;z-index: 1;}#sk-container-id-1 div.sk-parallel {display: flex;align-items: stretch;justify-content: center;background-color: white;position: relative;}#sk-container-id-1 div.sk-item::before, #sk-container-id-1 div.sk-parallel-item::before {content: \"\";position: absolute;border-left: 1px solid gray;box-sizing: border-box;top: 0;bottom: 0;left: 50%;z-index: -1;}#sk-container-id-1 div.sk-parallel-item {display: flex;flex-direction: column;z-index: 1;position: relative;background-color: white;}#sk-container-id-1 div.sk-parallel-item:first-child::after {align-self: flex-end;width: 50%;}#sk-container-id-1 div.sk-parallel-item:last-child::after {align-self: flex-start;width: 50%;}#sk-container-id-1 div.sk-parallel-item:only-child::after {width: 0;}#sk-container-id-1 div.sk-dashed-wrapped {border: 1px dashed gray;margin: 0 0.4em 0.5em 0.4em;box-sizing: border-box;padding-bottom: 0.4em;background-color: white;}#sk-container-id-1 div.sk-label label {font-family: monospace;font-weight: bold;display: inline-block;line-height: 1.2em;}#sk-container-id-1 div.sk-label-container {text-align: center;}#sk-container-id-1 div.sk-container {/* jupyter's `normalize.less` sets `[hidden] { display: none; }` but bootstrap.min.css set `[hidden] { display: none !important; }` so we also need the `!important` here to be able to override the default hidden behavior on the sphinx rendered scikit-learn.org. See: https://github.com/scikit-learn/scikit-learn/issues/21755 */display: inline-block !important;position: relative;}#sk-container-id-1 div.sk-text-repr-fallback {display: none;}</style><div id=\"sk-container-id-1\" class=\"sk-top-container\"><div class=\"sk-text-repr-fallback\"><pre>RFE(estimator=RandomForestClassifier(), n_features_to_select=10)</pre><b>In a Jupyter environment, please rerun this cell to show the HTML representation or trust the notebook. <br />On GitHub, the HTML representation is unable to render, please try loading this page with nbviewer.org.</b></div><div class=\"sk-container\" hidden><div class=\"sk-item sk-dashed-wrapped\"><div class=\"sk-label-container\"><div class=\"sk-label sk-toggleable\"><input class=\"sk-toggleable__control sk-hidden--visually\" id=\"sk-estimator-id-1\" type=\"checkbox\" ><label for=\"sk-estimator-id-1\" class=\"sk-toggleable__label sk-toggleable__label-arrow\">RFE</label><div class=\"sk-toggleable__content\"><pre>RFE(estimator=RandomForestClassifier(), n_features_to_select=10)</pre></div></div></div><div class=\"sk-parallel\"><div class=\"sk-parallel-item\"><div class=\"sk-item\"><div class=\"sk-label-container\"><div class=\"sk-label sk-toggleable\"><input class=\"sk-toggleable__control sk-hidden--visually\" id=\"sk-estimator-id-2\" type=\"checkbox\" ><label for=\"sk-estimator-id-2\" class=\"sk-toggleable__label sk-toggleable__label-arrow\">estimator: RandomForestClassifier</label><div class=\"sk-toggleable__content\"><pre>RandomForestClassifier()</pre></div></div></div><div class=\"sk-serial\"><div class=\"sk-item\"><div class=\"sk-estimator sk-toggleable\"><input class=\"sk-toggleable__control sk-hidden--visually\" id=\"sk-estimator-id-3\" type=\"checkbox\" ><label for=\"sk-estimator-id-3\" class=\"sk-toggleable__label sk-toggleable__label-arrow\">RandomForestClassifier</label><div class=\"sk-toggleable__content\"><pre>RandomForestClassifier()</pre></div></div></div></div></div></div></div></div></div></div>"
     },
     "execution_count": 15,
     "metadata": {},
     "output_type": "execute_result"
    }
   ],
   "source": [
    "# define the method\n",
    "rfe = RFE(estimator=RandomForestClassifier(), n_features_to_select=10)\n",
    "# fit the model\n",
    "rfe.fit(X, y)\n"
   ],
   "metadata": {
    "collapsed": false
   }
  },
  {
   "cell_type": "code",
   "execution_count": 16,
   "outputs": [
    {
     "data": {
      "text/plain": "array(['Open', 'High', 'Low', 'Close', 'Volume', 'CPI', 'fed_rate',\n       'PPI_CPI', 'Job_seekers_ratio', 'actual_hire'], dtype=object)"
     },
     "execution_count": 16,
     "metadata": {},
     "output_type": "execute_result"
    }
   ],
   "source": [
    "rfe.get_feature_names_out()"
   ],
   "metadata": {
    "collapsed": false
   }
  },
  {
   "cell_type": "code",
   "execution_count": 17,
   "outputs": [
    {
     "data": {
      "text/plain": "RandomForestClassifier(max_leaf_nodes=10, max_samples=300, n_estimators=250,\n                       n_jobs=-1)",
      "text/html": "<style>#sk-container-id-2 {color: black;background-color: white;}#sk-container-id-2 pre{padding: 0;}#sk-container-id-2 div.sk-toggleable {background-color: white;}#sk-container-id-2 label.sk-toggleable__label {cursor: pointer;display: block;width: 100%;margin-bottom: 0;padding: 0.3em;box-sizing: border-box;text-align: center;}#sk-container-id-2 label.sk-toggleable__label-arrow:before {content: \"▸\";float: left;margin-right: 0.25em;color: #696969;}#sk-container-id-2 label.sk-toggleable__label-arrow:hover:before {color: black;}#sk-container-id-2 div.sk-estimator:hover label.sk-toggleable__label-arrow:before {color: black;}#sk-container-id-2 div.sk-toggleable__content {max-height: 0;max-width: 0;overflow: hidden;text-align: left;background-color: #f0f8ff;}#sk-container-id-2 div.sk-toggleable__content pre {margin: 0.2em;color: black;border-radius: 0.25em;background-color: #f0f8ff;}#sk-container-id-2 input.sk-toggleable__control:checked~div.sk-toggleable__content {max-height: 200px;max-width: 100%;overflow: auto;}#sk-container-id-2 input.sk-toggleable__control:checked~label.sk-toggleable__label-arrow:before {content: \"▾\";}#sk-container-id-2 div.sk-estimator input.sk-toggleable__control:checked~label.sk-toggleable__label {background-color: #d4ebff;}#sk-container-id-2 div.sk-label input.sk-toggleable__control:checked~label.sk-toggleable__label {background-color: #d4ebff;}#sk-container-id-2 input.sk-hidden--visually {border: 0;clip: rect(1px 1px 1px 1px);clip: rect(1px, 1px, 1px, 1px);height: 1px;margin: -1px;overflow: hidden;padding: 0;position: absolute;width: 1px;}#sk-container-id-2 div.sk-estimator {font-family: monospace;background-color: #f0f8ff;border: 1px dotted black;border-radius: 0.25em;box-sizing: border-box;margin-bottom: 0.5em;}#sk-container-id-2 div.sk-estimator:hover {background-color: #d4ebff;}#sk-container-id-2 div.sk-parallel-item::after {content: \"\";width: 100%;border-bottom: 1px solid gray;flex-grow: 1;}#sk-container-id-2 div.sk-label:hover label.sk-toggleable__label {background-color: #d4ebff;}#sk-container-id-2 div.sk-serial::before {content: \"\";position: absolute;border-left: 1px solid gray;box-sizing: border-box;top: 0;bottom: 0;left: 50%;z-index: 0;}#sk-container-id-2 div.sk-serial {display: flex;flex-direction: column;align-items: center;background-color: white;padding-right: 0.2em;padding-left: 0.2em;position: relative;}#sk-container-id-2 div.sk-item {position: relative;z-index: 1;}#sk-container-id-2 div.sk-parallel {display: flex;align-items: stretch;justify-content: center;background-color: white;position: relative;}#sk-container-id-2 div.sk-item::before, #sk-container-id-2 div.sk-parallel-item::before {content: \"\";position: absolute;border-left: 1px solid gray;box-sizing: border-box;top: 0;bottom: 0;left: 50%;z-index: -1;}#sk-container-id-2 div.sk-parallel-item {display: flex;flex-direction: column;z-index: 1;position: relative;background-color: white;}#sk-container-id-2 div.sk-parallel-item:first-child::after {align-self: flex-end;width: 50%;}#sk-container-id-2 div.sk-parallel-item:last-child::after {align-self: flex-start;width: 50%;}#sk-container-id-2 div.sk-parallel-item:only-child::after {width: 0;}#sk-container-id-2 div.sk-dashed-wrapped {border: 1px dashed gray;margin: 0 0.4em 0.5em 0.4em;box-sizing: border-box;padding-bottom: 0.4em;background-color: white;}#sk-container-id-2 div.sk-label label {font-family: monospace;font-weight: bold;display: inline-block;line-height: 1.2em;}#sk-container-id-2 div.sk-label-container {text-align: center;}#sk-container-id-2 div.sk-container {/* jupyter's `normalize.less` sets `[hidden] { display: none; }` but bootstrap.min.css set `[hidden] { display: none !important; }` so we also need the `!important` here to be able to override the default hidden behavior on the sphinx rendered scikit-learn.org. See: https://github.com/scikit-learn/scikit-learn/issues/21755 */display: inline-block !important;position: relative;}#sk-container-id-2 div.sk-text-repr-fallback {display: none;}</style><div id=\"sk-container-id-2\" class=\"sk-top-container\"><div class=\"sk-text-repr-fallback\"><pre>RandomForestClassifier(max_leaf_nodes=10, max_samples=300, n_estimators=250,\n                       n_jobs=-1)</pre><b>In a Jupyter environment, please rerun this cell to show the HTML representation or trust the notebook. <br />On GitHub, the HTML representation is unable to render, please try loading this page with nbviewer.org.</b></div><div class=\"sk-container\" hidden><div class=\"sk-item\"><div class=\"sk-estimator sk-toggleable\"><input class=\"sk-toggleable__control sk-hidden--visually\" id=\"sk-estimator-id-4\" type=\"checkbox\" checked><label for=\"sk-estimator-id-4\" class=\"sk-toggleable__label sk-toggleable__label-arrow\">RandomForestClassifier</label><div class=\"sk-toggleable__content\"><pre>RandomForestClassifier(max_leaf_nodes=10, max_samples=300, n_estimators=250,\n                       n_jobs=-1)</pre></div></div></div></div></div>"
     },
     "execution_count": 17,
     "metadata": {},
     "output_type": "execute_result"
    }
   ],
   "source": [
    "rf_sector = []\n",
    "rf_model = []\n",
    "rf_best_param = []\n",
    "rf_acc = []\n",
    "rf_fi = []\n",
    "\n",
    "\n",
    "randomforestCLF = RandomForestClassifier(criterion = 'gini' , n_jobs = -1)\n",
    "\n",
    "parameters_rf = {'n_estimators':[10 , 100 , 250, 500, 600,700,1000 ],\n",
    "                 'max_depth' : [ None , 4 , 8  , 10 , 12] ,\n",
    "                 'max_features' : ['sqrt' , 'log2'] ,\n",
    "                 'max_leaf_nodes' : [2 , 4 , 8 , 10] ,\n",
    "                 'max_samples' : [50 , 100 , 150,300]}\n",
    "\n",
    "'''cross validation'''\n",
    "rf_rand_cv = RandomizedSearchCV(randomforestCLF , parameters_rf , cv = 5 ,scoring='accuracy', n_jobs = -1 ,error_score='raise')\n",
    "rf_rand_cv.fit(X_train[rfe.get_feature_names_out()], y_train)\n",
    "\n",
    "rf_best_param.append(rf_rand_cv.best_params_)\n",
    "\n",
    "randomforestCLF = RandomForestClassifier(n_estimators = rf_rand_cv.best_params_['n_estimators'] ,\n",
    "                                                                max_depth = rf_rand_cv.best_params_['max_depth'],\n",
    "                                                                max_features = rf_rand_cv.best_params_['max_features'],\n",
    "                                                                max_leaf_nodes = rf_rand_cv.best_params_['max_leaf_nodes'],\n",
    "                                                                max_samples = rf_rand_cv.best_params_['max_samples'],\n",
    "                                                                n_jobs = -1)\n",
    "randomforestCLF.fit(X_train[rfe.get_feature_names_out()], y_train)\n"
   ],
   "metadata": {
    "collapsed": false
   }
  },
  {
   "cell_type": "code",
   "execution_count": 18,
   "outputs": [],
   "source": [
    "def output_score(train,pred):\n",
    "    return accuracy_score(train, pred), f1_score(train, pred,average='macro'), recall_score(train, pred,average='macro'),precision_score(train, pred,average='macro',zero_division=0)"
   ],
   "metadata": {
    "collapsed": false
   }
  },
  {
   "cell_type": "code",
   "execution_count": 19,
   "outputs": [
    {
     "name": "stdout",
     "output_type": "stream",
     "text": [
      "Train_pred_acc:0.5567583382094792\n",
      "Train_pred_f1:0.375372025537853\n",
      "Train_pred_recall:0.40622402457090545\n",
      "Train_pred_precision:0.37097851277534605\n"
     ]
    }
   ],
   "source": [
    "y_pred = randomforestCLF.predict(X_train[rfe.get_feature_names_out()])\n",
    "print(\"Train_pred_acc:\" + str(accuracy_score(y_train, y_pred)))\n",
    "print(\"Train_pred_f1:\" + str(f1_score(y_train, y_pred,average='macro')))\n",
    "print(\"Train_pred_recall:\" + str(recall_score(y_train, y_pred,average='macro')))\n",
    "print(\"Train_pred_precision:\" + str(precision_score(y_train, y_pred,average='macro',zero_division=0)))\n",
    "\n",
    "rf_acc, rf_f1, rf_recall, rf_pre = output_score(y_train,y_pred)\n",
    "\n"
   ],
   "metadata": {
    "collapsed": false
   }
  },
  {
   "cell_type": "code",
   "execution_count": 20,
   "outputs": [],
   "source": [
    "model_name.append('RF')\n",
    "acc.append(rf_acc)\n",
    "precision.append(rf_pre)\n",
    "f1.append(rf_f1)\n",
    "recall.append(rf_recall)"
   ],
   "metadata": {
    "collapsed": false
   }
  },
  {
   "cell_type": "code",
   "execution_count": 21,
   "outputs": [],
   "source": [
    "\n",
    "y_pred_test = randomforestCLF.predict(X_test[rfe.get_feature_names_out()])\n",
    "rf_acc, rf_f1, rf_recall, rf_pre = output_score(y_test,y_pred_test)\n",
    "\n",
    "\n",
    "\n",
    "acc_t.append(rf_acc)\n",
    "precision_t.append(rf_pre)\n",
    "f1_t.append(rf_f1)\n",
    "recall_t.append(rf_recall)\n"
   ],
   "metadata": {
    "collapsed": false
   }
  },
  {
   "cell_type": "markdown",
   "source": [
    "# Gradient Boost"
   ],
   "metadata": {
    "collapsed": false
   }
  },
  {
   "cell_type": "code",
   "execution_count": 22,
   "outputs": [
    {
     "data": {
      "text/plain": "RFE(estimator=GradientBoostingClassifier(), n_features_to_select=10)",
      "text/html": "<style>#sk-container-id-3 {color: black;background-color: white;}#sk-container-id-3 pre{padding: 0;}#sk-container-id-3 div.sk-toggleable {background-color: white;}#sk-container-id-3 label.sk-toggleable__label {cursor: pointer;display: block;width: 100%;margin-bottom: 0;padding: 0.3em;box-sizing: border-box;text-align: center;}#sk-container-id-3 label.sk-toggleable__label-arrow:before {content: \"▸\";float: left;margin-right: 0.25em;color: #696969;}#sk-container-id-3 label.sk-toggleable__label-arrow:hover:before {color: black;}#sk-container-id-3 div.sk-estimator:hover label.sk-toggleable__label-arrow:before {color: black;}#sk-container-id-3 div.sk-toggleable__content {max-height: 0;max-width: 0;overflow: hidden;text-align: left;background-color: #f0f8ff;}#sk-container-id-3 div.sk-toggleable__content pre {margin: 0.2em;color: black;border-radius: 0.25em;background-color: #f0f8ff;}#sk-container-id-3 input.sk-toggleable__control:checked~div.sk-toggleable__content {max-height: 200px;max-width: 100%;overflow: auto;}#sk-container-id-3 input.sk-toggleable__control:checked~label.sk-toggleable__label-arrow:before {content: \"▾\";}#sk-container-id-3 div.sk-estimator input.sk-toggleable__control:checked~label.sk-toggleable__label {background-color: #d4ebff;}#sk-container-id-3 div.sk-label input.sk-toggleable__control:checked~label.sk-toggleable__label {background-color: #d4ebff;}#sk-container-id-3 input.sk-hidden--visually {border: 0;clip: rect(1px 1px 1px 1px);clip: rect(1px, 1px, 1px, 1px);height: 1px;margin: -1px;overflow: hidden;padding: 0;position: absolute;width: 1px;}#sk-container-id-3 div.sk-estimator {font-family: monospace;background-color: #f0f8ff;border: 1px dotted black;border-radius: 0.25em;box-sizing: border-box;margin-bottom: 0.5em;}#sk-container-id-3 div.sk-estimator:hover {background-color: #d4ebff;}#sk-container-id-3 div.sk-parallel-item::after {content: \"\";width: 100%;border-bottom: 1px solid gray;flex-grow: 1;}#sk-container-id-3 div.sk-label:hover label.sk-toggleable__label {background-color: #d4ebff;}#sk-container-id-3 div.sk-serial::before {content: \"\";position: absolute;border-left: 1px solid gray;box-sizing: border-box;top: 0;bottom: 0;left: 50%;z-index: 0;}#sk-container-id-3 div.sk-serial {display: flex;flex-direction: column;align-items: center;background-color: white;padding-right: 0.2em;padding-left: 0.2em;position: relative;}#sk-container-id-3 div.sk-item {position: relative;z-index: 1;}#sk-container-id-3 div.sk-parallel {display: flex;align-items: stretch;justify-content: center;background-color: white;position: relative;}#sk-container-id-3 div.sk-item::before, #sk-container-id-3 div.sk-parallel-item::before {content: \"\";position: absolute;border-left: 1px solid gray;box-sizing: border-box;top: 0;bottom: 0;left: 50%;z-index: -1;}#sk-container-id-3 div.sk-parallel-item {display: flex;flex-direction: column;z-index: 1;position: relative;background-color: white;}#sk-container-id-3 div.sk-parallel-item:first-child::after {align-self: flex-end;width: 50%;}#sk-container-id-3 div.sk-parallel-item:last-child::after {align-self: flex-start;width: 50%;}#sk-container-id-3 div.sk-parallel-item:only-child::after {width: 0;}#sk-container-id-3 div.sk-dashed-wrapped {border: 1px dashed gray;margin: 0 0.4em 0.5em 0.4em;box-sizing: border-box;padding-bottom: 0.4em;background-color: white;}#sk-container-id-3 div.sk-label label {font-family: monospace;font-weight: bold;display: inline-block;line-height: 1.2em;}#sk-container-id-3 div.sk-label-container {text-align: center;}#sk-container-id-3 div.sk-container {/* jupyter's `normalize.less` sets `[hidden] { display: none; }` but bootstrap.min.css set `[hidden] { display: none !important; }` so we also need the `!important` here to be able to override the default hidden behavior on the sphinx rendered scikit-learn.org. See: https://github.com/scikit-learn/scikit-learn/issues/21755 */display: inline-block !important;position: relative;}#sk-container-id-3 div.sk-text-repr-fallback {display: none;}</style><div id=\"sk-container-id-3\" class=\"sk-top-container\"><div class=\"sk-text-repr-fallback\"><pre>RFE(estimator=GradientBoostingClassifier(), n_features_to_select=10)</pre><b>In a Jupyter environment, please rerun this cell to show the HTML representation or trust the notebook. <br />On GitHub, the HTML representation is unable to render, please try loading this page with nbviewer.org.</b></div><div class=\"sk-container\" hidden><div class=\"sk-item sk-dashed-wrapped\"><div class=\"sk-label-container\"><div class=\"sk-label sk-toggleable\"><input class=\"sk-toggleable__control sk-hidden--visually\" id=\"sk-estimator-id-5\" type=\"checkbox\" ><label for=\"sk-estimator-id-5\" class=\"sk-toggleable__label sk-toggleable__label-arrow\">RFE</label><div class=\"sk-toggleable__content\"><pre>RFE(estimator=GradientBoostingClassifier(), n_features_to_select=10)</pre></div></div></div><div class=\"sk-parallel\"><div class=\"sk-parallel-item\"><div class=\"sk-item\"><div class=\"sk-label-container\"><div class=\"sk-label sk-toggleable\"><input class=\"sk-toggleable__control sk-hidden--visually\" id=\"sk-estimator-id-6\" type=\"checkbox\" ><label for=\"sk-estimator-id-6\" class=\"sk-toggleable__label sk-toggleable__label-arrow\">estimator: GradientBoostingClassifier</label><div class=\"sk-toggleable__content\"><pre>GradientBoostingClassifier()</pre></div></div></div><div class=\"sk-serial\"><div class=\"sk-item\"><div class=\"sk-estimator sk-toggleable\"><input class=\"sk-toggleable__control sk-hidden--visually\" id=\"sk-estimator-id-7\" type=\"checkbox\" ><label for=\"sk-estimator-id-7\" class=\"sk-toggleable__label sk-toggleable__label-arrow\">GradientBoostingClassifier</label><div class=\"sk-toggleable__content\"><pre>GradientBoostingClassifier()</pre></div></div></div></div></div></div></div></div></div></div>"
     },
     "execution_count": 22,
     "metadata": {},
     "output_type": "execute_result"
    }
   ],
   "source": [
    "rfe_gb = RFE(estimator=GradientBoostingClassifier(), n_features_to_select=10)\n",
    "# fit the model\n",
    "rfe_gb.fit(X, y)"
   ],
   "metadata": {
    "collapsed": false
   }
  },
  {
   "cell_type": "code",
   "execution_count": 23,
   "outputs": [
    {
     "data": {
      "text/plain": "array(['Industry', 'Open', 'High', 'Low', 'Close', 'Volume', 'CPI', 'PPI',\n       'job_education_health', 'fed_rate'], dtype=object)"
     },
     "execution_count": 23,
     "metadata": {},
     "output_type": "execute_result"
    }
   ],
   "source": [
    "rfe_gb.get_feature_names_out()"
   ],
   "metadata": {
    "collapsed": false
   }
  },
  {
   "cell_type": "code",
   "execution_count": 24,
   "outputs": [
    {
     "data": {
      "text/plain": "RandomizedSearchCV(estimator=Pipeline(steps=[('scaler', StandardScaler()),\n                                             ('gb',\n                                              GradientBoostingClassifier())]),\n                   n_iter=50, n_jobs=-1,\n                   param_distributions={'gb__criterion': ['friedman_mse'],\n                                        'gb__learning_rate': [0.01, 0.001, 0.1,\n                                                              0.5, 1],\n                                        'gb__max_depth': [1, 2, 5, 7, 10, 15],\n                                        'gb__max_features': ['sqrt', 'log2', 2,\n                                                             5],\n                                        'gb__max_leaf_nodes': [None, 2, 3, 5, 6,\n                                                               7, 8, 9, 10],\n                                        'gb__n_estimators': [100, 200, 300, 400,\n                                                             500, 750],\n                                        'gb__subsample': [0.5, 0.1, 1.0]},\n                   scoring='accuracy')",
      "text/html": "<style>#sk-container-id-4 {color: black;background-color: white;}#sk-container-id-4 pre{padding: 0;}#sk-container-id-4 div.sk-toggleable {background-color: white;}#sk-container-id-4 label.sk-toggleable__label {cursor: pointer;display: block;width: 100%;margin-bottom: 0;padding: 0.3em;box-sizing: border-box;text-align: center;}#sk-container-id-4 label.sk-toggleable__label-arrow:before {content: \"▸\";float: left;margin-right: 0.25em;color: #696969;}#sk-container-id-4 label.sk-toggleable__label-arrow:hover:before {color: black;}#sk-container-id-4 div.sk-estimator:hover label.sk-toggleable__label-arrow:before {color: black;}#sk-container-id-4 div.sk-toggleable__content {max-height: 0;max-width: 0;overflow: hidden;text-align: left;background-color: #f0f8ff;}#sk-container-id-4 div.sk-toggleable__content pre {margin: 0.2em;color: black;border-radius: 0.25em;background-color: #f0f8ff;}#sk-container-id-4 input.sk-toggleable__control:checked~div.sk-toggleable__content {max-height: 200px;max-width: 100%;overflow: auto;}#sk-container-id-4 input.sk-toggleable__control:checked~label.sk-toggleable__label-arrow:before {content: \"▾\";}#sk-container-id-4 div.sk-estimator input.sk-toggleable__control:checked~label.sk-toggleable__label {background-color: #d4ebff;}#sk-container-id-4 div.sk-label input.sk-toggleable__control:checked~label.sk-toggleable__label {background-color: #d4ebff;}#sk-container-id-4 input.sk-hidden--visually {border: 0;clip: rect(1px 1px 1px 1px);clip: rect(1px, 1px, 1px, 1px);height: 1px;margin: -1px;overflow: hidden;padding: 0;position: absolute;width: 1px;}#sk-container-id-4 div.sk-estimator {font-family: monospace;background-color: #f0f8ff;border: 1px dotted black;border-radius: 0.25em;box-sizing: border-box;margin-bottom: 0.5em;}#sk-container-id-4 div.sk-estimator:hover {background-color: #d4ebff;}#sk-container-id-4 div.sk-parallel-item::after {content: \"\";width: 100%;border-bottom: 1px solid gray;flex-grow: 1;}#sk-container-id-4 div.sk-label:hover label.sk-toggleable__label {background-color: #d4ebff;}#sk-container-id-4 div.sk-serial::before {content: \"\";position: absolute;border-left: 1px solid gray;box-sizing: border-box;top: 0;bottom: 0;left: 50%;z-index: 0;}#sk-container-id-4 div.sk-serial {display: flex;flex-direction: column;align-items: center;background-color: white;padding-right: 0.2em;padding-left: 0.2em;position: relative;}#sk-container-id-4 div.sk-item {position: relative;z-index: 1;}#sk-container-id-4 div.sk-parallel {display: flex;align-items: stretch;justify-content: center;background-color: white;position: relative;}#sk-container-id-4 div.sk-item::before, #sk-container-id-4 div.sk-parallel-item::before {content: \"\";position: absolute;border-left: 1px solid gray;box-sizing: border-box;top: 0;bottom: 0;left: 50%;z-index: -1;}#sk-container-id-4 div.sk-parallel-item {display: flex;flex-direction: column;z-index: 1;position: relative;background-color: white;}#sk-container-id-4 div.sk-parallel-item:first-child::after {align-self: flex-end;width: 50%;}#sk-container-id-4 div.sk-parallel-item:last-child::after {align-self: flex-start;width: 50%;}#sk-container-id-4 div.sk-parallel-item:only-child::after {width: 0;}#sk-container-id-4 div.sk-dashed-wrapped {border: 1px dashed gray;margin: 0 0.4em 0.5em 0.4em;box-sizing: border-box;padding-bottom: 0.4em;background-color: white;}#sk-container-id-4 div.sk-label label {font-family: monospace;font-weight: bold;display: inline-block;line-height: 1.2em;}#sk-container-id-4 div.sk-label-container {text-align: center;}#sk-container-id-4 div.sk-container {/* jupyter's `normalize.less` sets `[hidden] { display: none; }` but bootstrap.min.css set `[hidden] { display: none !important; }` so we also need the `!important` here to be able to override the default hidden behavior on the sphinx rendered scikit-learn.org. See: https://github.com/scikit-learn/scikit-learn/issues/21755 */display: inline-block !important;position: relative;}#sk-container-id-4 div.sk-text-repr-fallback {display: none;}</style><div id=\"sk-container-id-4\" class=\"sk-top-container\"><div class=\"sk-text-repr-fallback\"><pre>RandomizedSearchCV(estimator=Pipeline(steps=[(&#x27;scaler&#x27;, StandardScaler()),\n                                             (&#x27;gb&#x27;,\n                                              GradientBoostingClassifier())]),\n                   n_iter=50, n_jobs=-1,\n                   param_distributions={&#x27;gb__criterion&#x27;: [&#x27;friedman_mse&#x27;],\n                                        &#x27;gb__learning_rate&#x27;: [0.01, 0.001, 0.1,\n                                                              0.5, 1],\n                                        &#x27;gb__max_depth&#x27;: [1, 2, 5, 7, 10, 15],\n                                        &#x27;gb__max_features&#x27;: [&#x27;sqrt&#x27;, &#x27;log2&#x27;, 2,\n                                                             5],\n                                        &#x27;gb__max_leaf_nodes&#x27;: [None, 2, 3, 5, 6,\n                                                               7, 8, 9, 10],\n                                        &#x27;gb__n_estimators&#x27;: [100, 200, 300, 400,\n                                                             500, 750],\n                                        &#x27;gb__subsample&#x27;: [0.5, 0.1, 1.0]},\n                   scoring=&#x27;accuracy&#x27;)</pre><b>In a Jupyter environment, please rerun this cell to show the HTML representation or trust the notebook. <br />On GitHub, the HTML representation is unable to render, please try loading this page with nbviewer.org.</b></div><div class=\"sk-container\" hidden><div class=\"sk-item sk-dashed-wrapped\"><div class=\"sk-label-container\"><div class=\"sk-label sk-toggleable\"><input class=\"sk-toggleable__control sk-hidden--visually\" id=\"sk-estimator-id-8\" type=\"checkbox\" ><label for=\"sk-estimator-id-8\" class=\"sk-toggleable__label sk-toggleable__label-arrow\">RandomizedSearchCV</label><div class=\"sk-toggleable__content\"><pre>RandomizedSearchCV(estimator=Pipeline(steps=[(&#x27;scaler&#x27;, StandardScaler()),\n                                             (&#x27;gb&#x27;,\n                                              GradientBoostingClassifier())]),\n                   n_iter=50, n_jobs=-1,\n                   param_distributions={&#x27;gb__criterion&#x27;: [&#x27;friedman_mse&#x27;],\n                                        &#x27;gb__learning_rate&#x27;: [0.01, 0.001, 0.1,\n                                                              0.5, 1],\n                                        &#x27;gb__max_depth&#x27;: [1, 2, 5, 7, 10, 15],\n                                        &#x27;gb__max_features&#x27;: [&#x27;sqrt&#x27;, &#x27;log2&#x27;, 2,\n                                                             5],\n                                        &#x27;gb__max_leaf_nodes&#x27;: [None, 2, 3, 5, 6,\n                                                               7, 8, 9, 10],\n                                        &#x27;gb__n_estimators&#x27;: [100, 200, 300, 400,\n                                                             500, 750],\n                                        &#x27;gb__subsample&#x27;: [0.5, 0.1, 1.0]},\n                   scoring=&#x27;accuracy&#x27;)</pre></div></div></div><div class=\"sk-parallel\"><div class=\"sk-parallel-item\"><div class=\"sk-item\"><div class=\"sk-label-container\"><div class=\"sk-label sk-toggleable\"><input class=\"sk-toggleable__control sk-hidden--visually\" id=\"sk-estimator-id-9\" type=\"checkbox\" ><label for=\"sk-estimator-id-9\" class=\"sk-toggleable__label sk-toggleable__label-arrow\">estimator: Pipeline</label><div class=\"sk-toggleable__content\"><pre>Pipeline(steps=[(&#x27;scaler&#x27;, StandardScaler()),\n                (&#x27;gb&#x27;, GradientBoostingClassifier())])</pre></div></div></div><div class=\"sk-serial\"><div class=\"sk-item\"><div class=\"sk-serial\"><div class=\"sk-item\"><div class=\"sk-estimator sk-toggleable\"><input class=\"sk-toggleable__control sk-hidden--visually\" id=\"sk-estimator-id-10\" type=\"checkbox\" ><label for=\"sk-estimator-id-10\" class=\"sk-toggleable__label sk-toggleable__label-arrow\">StandardScaler</label><div class=\"sk-toggleable__content\"><pre>StandardScaler()</pre></div></div></div><div class=\"sk-item\"><div class=\"sk-estimator sk-toggleable\"><input class=\"sk-toggleable__control sk-hidden--visually\" id=\"sk-estimator-id-11\" type=\"checkbox\" ><label for=\"sk-estimator-id-11\" class=\"sk-toggleable__label sk-toggleable__label-arrow\">GradientBoostingClassifier</label><div class=\"sk-toggleable__content\"><pre>GradientBoostingClassifier()</pre></div></div></div></div></div></div></div></div></div></div></div></div>"
     },
     "execution_count": 24,
     "metadata": {},
     "output_type": "execute_result"
    }
   ],
   "source": [
    "gradientB_clf = Pipeline(steps = [('scaler' , StandardScaler()) ,\n",
    "                                  ('gb' , GradientBoostingClassifier())])\n",
    "\n",
    "parameters_gb = { 'gb__learning_rate' : [0.01 , 0.001 , 0.1 , 0.5 , 1] ,\n",
    "                 'gb__n_estimators' : [100 , 200 , 300 , 400 , 500 , 750] ,\n",
    "                 'gb__subsample' : [0.5 , 0.1 , 1.0] ,\n",
    "                 'gb__criterion' : ['friedman_mse'] ,\n",
    "                 'gb__max_depth' : [1 , 2 , 5 , 7 , 10 , 15] ,\n",
    "                 'gb__max_features' : ['sqrt' , 'log2' , 2 , 5] ,\n",
    "                 'gb__max_leaf_nodes' : [None , 2 , 3 , 5 , 6 , 7 , 8 , 9 , 10]}\n",
    "\n",
    "gb_clf_randCV = RandomizedSearchCV(gradientB_clf , parameters_gb, n_iter=50, scoring='accuracy' , n_jobs = -1)\n",
    "gb_clf_randCV.fit(X_train[rfe_gb.get_feature_names_out()] , y_train)"
   ],
   "metadata": {
    "collapsed": false
   }
  },
  {
   "cell_type": "code",
   "execution_count": 25,
   "outputs": [
    {
     "data": {
      "text/plain": "{'gb__subsample': 1.0,\n 'gb__n_estimators': 400,\n 'gb__max_leaf_nodes': None,\n 'gb__max_features': 'log2',\n 'gb__max_depth': 5,\n 'gb__learning_rate': 0.01,\n 'gb__criterion': 'friedman_mse'}"
     },
     "execution_count": 25,
     "metadata": {},
     "output_type": "execute_result"
    }
   ],
   "source": [
    "gb_clf_randCV.best_params_"
   ],
   "metadata": {
    "collapsed": false
   }
  },
  {
   "cell_type": "code",
   "execution_count": 26,
   "outputs": [
    {
     "data": {
      "text/plain": "GradientBoostingClassifier(learning_rate=0.01, max_depth=5, max_features='log2',\n                           n_estimators=400, random_state=13)",
      "text/html": "<style>#sk-container-id-5 {color: black;background-color: white;}#sk-container-id-5 pre{padding: 0;}#sk-container-id-5 div.sk-toggleable {background-color: white;}#sk-container-id-5 label.sk-toggleable__label {cursor: pointer;display: block;width: 100%;margin-bottom: 0;padding: 0.3em;box-sizing: border-box;text-align: center;}#sk-container-id-5 label.sk-toggleable__label-arrow:before {content: \"▸\";float: left;margin-right: 0.25em;color: #696969;}#sk-container-id-5 label.sk-toggleable__label-arrow:hover:before {color: black;}#sk-container-id-5 div.sk-estimator:hover label.sk-toggleable__label-arrow:before {color: black;}#sk-container-id-5 div.sk-toggleable__content {max-height: 0;max-width: 0;overflow: hidden;text-align: left;background-color: #f0f8ff;}#sk-container-id-5 div.sk-toggleable__content pre {margin: 0.2em;color: black;border-radius: 0.25em;background-color: #f0f8ff;}#sk-container-id-5 input.sk-toggleable__control:checked~div.sk-toggleable__content {max-height: 200px;max-width: 100%;overflow: auto;}#sk-container-id-5 input.sk-toggleable__control:checked~label.sk-toggleable__label-arrow:before {content: \"▾\";}#sk-container-id-5 div.sk-estimator input.sk-toggleable__control:checked~label.sk-toggleable__label {background-color: #d4ebff;}#sk-container-id-5 div.sk-label input.sk-toggleable__control:checked~label.sk-toggleable__label {background-color: #d4ebff;}#sk-container-id-5 input.sk-hidden--visually {border: 0;clip: rect(1px 1px 1px 1px);clip: rect(1px, 1px, 1px, 1px);height: 1px;margin: -1px;overflow: hidden;padding: 0;position: absolute;width: 1px;}#sk-container-id-5 div.sk-estimator {font-family: monospace;background-color: #f0f8ff;border: 1px dotted black;border-radius: 0.25em;box-sizing: border-box;margin-bottom: 0.5em;}#sk-container-id-5 div.sk-estimator:hover {background-color: #d4ebff;}#sk-container-id-5 div.sk-parallel-item::after {content: \"\";width: 100%;border-bottom: 1px solid gray;flex-grow: 1;}#sk-container-id-5 div.sk-label:hover label.sk-toggleable__label {background-color: #d4ebff;}#sk-container-id-5 div.sk-serial::before {content: \"\";position: absolute;border-left: 1px solid gray;box-sizing: border-box;top: 0;bottom: 0;left: 50%;z-index: 0;}#sk-container-id-5 div.sk-serial {display: flex;flex-direction: column;align-items: center;background-color: white;padding-right: 0.2em;padding-left: 0.2em;position: relative;}#sk-container-id-5 div.sk-item {position: relative;z-index: 1;}#sk-container-id-5 div.sk-parallel {display: flex;align-items: stretch;justify-content: center;background-color: white;position: relative;}#sk-container-id-5 div.sk-item::before, #sk-container-id-5 div.sk-parallel-item::before {content: \"\";position: absolute;border-left: 1px solid gray;box-sizing: border-box;top: 0;bottom: 0;left: 50%;z-index: -1;}#sk-container-id-5 div.sk-parallel-item {display: flex;flex-direction: column;z-index: 1;position: relative;background-color: white;}#sk-container-id-5 div.sk-parallel-item:first-child::after {align-self: flex-end;width: 50%;}#sk-container-id-5 div.sk-parallel-item:last-child::after {align-self: flex-start;width: 50%;}#sk-container-id-5 div.sk-parallel-item:only-child::after {width: 0;}#sk-container-id-5 div.sk-dashed-wrapped {border: 1px dashed gray;margin: 0 0.4em 0.5em 0.4em;box-sizing: border-box;padding-bottom: 0.4em;background-color: white;}#sk-container-id-5 div.sk-label label {font-family: monospace;font-weight: bold;display: inline-block;line-height: 1.2em;}#sk-container-id-5 div.sk-label-container {text-align: center;}#sk-container-id-5 div.sk-container {/* jupyter's `normalize.less` sets `[hidden] { display: none; }` but bootstrap.min.css set `[hidden] { display: none !important; }` so we also need the `!important` here to be able to override the default hidden behavior on the sphinx rendered scikit-learn.org. See: https://github.com/scikit-learn/scikit-learn/issues/21755 */display: inline-block !important;position: relative;}#sk-container-id-5 div.sk-text-repr-fallback {display: none;}</style><div id=\"sk-container-id-5\" class=\"sk-top-container\"><div class=\"sk-text-repr-fallback\"><pre>GradientBoostingClassifier(learning_rate=0.01, max_depth=5, max_features=&#x27;log2&#x27;,\n                           n_estimators=400, random_state=13)</pre><b>In a Jupyter environment, please rerun this cell to show the HTML representation or trust the notebook. <br />On GitHub, the HTML representation is unable to render, please try loading this page with nbviewer.org.</b></div><div class=\"sk-container\" hidden><div class=\"sk-item\"><div class=\"sk-estimator sk-toggleable\"><input class=\"sk-toggleable__control sk-hidden--visually\" id=\"sk-estimator-id-12\" type=\"checkbox\" checked><label for=\"sk-estimator-id-12\" class=\"sk-toggleable__label sk-toggleable__label-arrow\">GradientBoostingClassifier</label><div class=\"sk-toggleable__content\"><pre>GradientBoostingClassifier(learning_rate=0.01, max_depth=5, max_features=&#x27;log2&#x27;,\n                           n_estimators=400, random_state=13)</pre></div></div></div></div></div>"
     },
     "execution_count": 26,
     "metadata": {},
     "output_type": "execute_result"
    }
   ],
   "source": [
    "gradientB_clf = GradientBoostingClassifier(learning_rate = gb_clf_randCV.best_params_['gb__learning_rate'],\n",
    "                                                                     max_depth = gb_clf_randCV.best_params_['gb__max_depth'],\n",
    "                                                                     max_features = gb_clf_randCV.best_params_['gb__max_features'],\n",
    "                                                                     max_leaf_nodes = gb_clf_randCV.best_params_['gb__max_leaf_nodes'],\n",
    "                                                                     n_estimators = gb_clf_randCV.best_params_['gb__n_estimators'],random_state=13)\n",
    "\n",
    "gradientB_clf.fit(X_train[rfe_gb.get_feature_names_out()], y_train)"
   ],
   "metadata": {
    "collapsed": false
   }
  },
  {
   "cell_type": "code",
   "execution_count": 27,
   "outputs": [
    {
     "name": "stdout",
     "output_type": "stream",
     "text": [
      "Train_pred:0.6881217086015213\n"
     ]
    }
   ],
   "source": [
    "\n",
    "y_pred = gradientB_clf.predict(X_train[rfe_gb.get_feature_names_out()])\n",
    "print(\"Train_pred:\" + str(accuracy_score(y_train, y_pred)))\n",
    "\n",
    "\n",
    "gb_acc, gb_f1, gb_recall, gb_pre = output_score(y_train,y_pred)\n",
    "\n",
    "\n",
    "model_name.append('gb')\n",
    "acc.append(gb_acc)\n",
    "precision.append(gb_pre)\n",
    "f1.append(gb_f1)\n",
    "recall.append(gb_recall)\n"
   ],
   "metadata": {
    "collapsed": false
   }
  },
  {
   "cell_type": "code",
   "execution_count": 28,
   "outputs": [
    {
     "name": "stdout",
     "output_type": "stream",
     "text": [
      "Test_pred:0.5754266211604095\n",
      "[0.05753308 0.11893892 0.11424645 0.11653282 0.11923289 0.17197018\n",
      " 0.06668378 0.08267491 0.0687599  0.08342707]\n"
     ]
    }
   ],
   "source": [
    "\n",
    "y_pred_test = gradientB_clf.predict(X_test[rfe_gb.get_feature_names_out()])\n",
    "print(\"Test_pred:\" + str(accuracy_score(y_test, y_pred_test)))\n",
    "\n",
    "gb_acc, gb_f1, gb_recall, gb_pre = output_score(y_test,y_pred_test)\n",
    "\n",
    "\n",
    "\n",
    "acc_t.append(gb_acc)\n",
    "precision_t.append(gb_pre)\n",
    "f1_t.append(gb_f1)\n",
    "recall_t.append(gb_recall)\n",
    "\n",
    "\n",
    "print(gradientB_clf.feature_importances_)"
   ],
   "metadata": {
    "collapsed": false
   }
  },
  {
   "cell_type": "markdown",
   "source": [
    "# xGBoost"
   ],
   "metadata": {
    "collapsed": false
   }
  },
  {
   "cell_type": "code",
   "execution_count": 29,
   "outputs": [
    {
     "data": {
      "text/plain": "RFE(estimator=XGBClassifier(base_score=None, booster=None, callbacks=None,\n                            colsample_bylevel=None, colsample_bynode=None,\n                            colsample_bytree=None, early_stopping_rounds=None,\n                            enable_categorical=False, eval_metric=None,\n                            feature_types=None, gamma=None, gpu_id=None,\n                            grow_policy=None, importance_type=None,\n                            interaction_constraints=None, learning_rate=None,\n                            max_bin=None, max_cat_threshold=None,\n                            max_cat_to_onehot=None, max_delta_step=None,\n                            max_depth=None, max_leaves=None,\n                            min_child_weight=None, missing=nan,\n                            monotone_constraints=None, n_estimators=100,\n                            n_jobs=None, num_parallel_tree=None, predictor=None,\n                            random_state=None, ...),\n    n_features_to_select=10)",
      "text/html": "<style>#sk-container-id-6 {color: black;background-color: white;}#sk-container-id-6 pre{padding: 0;}#sk-container-id-6 div.sk-toggleable {background-color: white;}#sk-container-id-6 label.sk-toggleable__label {cursor: pointer;display: block;width: 100%;margin-bottom: 0;padding: 0.3em;box-sizing: border-box;text-align: center;}#sk-container-id-6 label.sk-toggleable__label-arrow:before {content: \"▸\";float: left;margin-right: 0.25em;color: #696969;}#sk-container-id-6 label.sk-toggleable__label-arrow:hover:before {color: black;}#sk-container-id-6 div.sk-estimator:hover label.sk-toggleable__label-arrow:before {color: black;}#sk-container-id-6 div.sk-toggleable__content {max-height: 0;max-width: 0;overflow: hidden;text-align: left;background-color: #f0f8ff;}#sk-container-id-6 div.sk-toggleable__content pre {margin: 0.2em;color: black;border-radius: 0.25em;background-color: #f0f8ff;}#sk-container-id-6 input.sk-toggleable__control:checked~div.sk-toggleable__content {max-height: 200px;max-width: 100%;overflow: auto;}#sk-container-id-6 input.sk-toggleable__control:checked~label.sk-toggleable__label-arrow:before {content: \"▾\";}#sk-container-id-6 div.sk-estimator input.sk-toggleable__control:checked~label.sk-toggleable__label {background-color: #d4ebff;}#sk-container-id-6 div.sk-label input.sk-toggleable__control:checked~label.sk-toggleable__label {background-color: #d4ebff;}#sk-container-id-6 input.sk-hidden--visually {border: 0;clip: rect(1px 1px 1px 1px);clip: rect(1px, 1px, 1px, 1px);height: 1px;margin: -1px;overflow: hidden;padding: 0;position: absolute;width: 1px;}#sk-container-id-6 div.sk-estimator {font-family: monospace;background-color: #f0f8ff;border: 1px dotted black;border-radius: 0.25em;box-sizing: border-box;margin-bottom: 0.5em;}#sk-container-id-6 div.sk-estimator:hover {background-color: #d4ebff;}#sk-container-id-6 div.sk-parallel-item::after {content: \"\";width: 100%;border-bottom: 1px solid gray;flex-grow: 1;}#sk-container-id-6 div.sk-label:hover label.sk-toggleable__label {background-color: #d4ebff;}#sk-container-id-6 div.sk-serial::before {content: \"\";position: absolute;border-left: 1px solid gray;box-sizing: border-box;top: 0;bottom: 0;left: 50%;z-index: 0;}#sk-container-id-6 div.sk-serial {display: flex;flex-direction: column;align-items: center;background-color: white;padding-right: 0.2em;padding-left: 0.2em;position: relative;}#sk-container-id-6 div.sk-item {position: relative;z-index: 1;}#sk-container-id-6 div.sk-parallel {display: flex;align-items: stretch;justify-content: center;background-color: white;position: relative;}#sk-container-id-6 div.sk-item::before, #sk-container-id-6 div.sk-parallel-item::before {content: \"\";position: absolute;border-left: 1px solid gray;box-sizing: border-box;top: 0;bottom: 0;left: 50%;z-index: -1;}#sk-container-id-6 div.sk-parallel-item {display: flex;flex-direction: column;z-index: 1;position: relative;background-color: white;}#sk-container-id-6 div.sk-parallel-item:first-child::after {align-self: flex-end;width: 50%;}#sk-container-id-6 div.sk-parallel-item:last-child::after {align-self: flex-start;width: 50%;}#sk-container-id-6 div.sk-parallel-item:only-child::after {width: 0;}#sk-container-id-6 div.sk-dashed-wrapped {border: 1px dashed gray;margin: 0 0.4em 0.5em 0.4em;box-sizing: border-box;padding-bottom: 0.4em;background-color: white;}#sk-container-id-6 div.sk-label label {font-family: monospace;font-weight: bold;display: inline-block;line-height: 1.2em;}#sk-container-id-6 div.sk-label-container {text-align: center;}#sk-container-id-6 div.sk-container {/* jupyter's `normalize.less` sets `[hidden] { display: none; }` but bootstrap.min.css set `[hidden] { display: none !important; }` so we also need the `!important` here to be able to override the default hidden behavior on the sphinx rendered scikit-learn.org. See: https://github.com/scikit-learn/scikit-learn/issues/21755 */display: inline-block !important;position: relative;}#sk-container-id-6 div.sk-text-repr-fallback {display: none;}</style><div id=\"sk-container-id-6\" class=\"sk-top-container\"><div class=\"sk-text-repr-fallback\"><pre>RFE(estimator=XGBClassifier(base_score=None, booster=None, callbacks=None,\n                            colsample_bylevel=None, colsample_bynode=None,\n                            colsample_bytree=None, early_stopping_rounds=None,\n                            enable_categorical=False, eval_metric=None,\n                            feature_types=None, gamma=None, gpu_id=None,\n                            grow_policy=None, importance_type=None,\n                            interaction_constraints=None, learning_rate=None,\n                            max_bin=None, max_cat_threshold=None,\n                            max_cat_to_onehot=None, max_delta_step=None,\n                            max_depth=None, max_leaves=None,\n                            min_child_weight=None, missing=nan,\n                            monotone_constraints=None, n_estimators=100,\n                            n_jobs=None, num_parallel_tree=None, predictor=None,\n                            random_state=None, ...),\n    n_features_to_select=10)</pre><b>In a Jupyter environment, please rerun this cell to show the HTML representation or trust the notebook. <br />On GitHub, the HTML representation is unable to render, please try loading this page with nbviewer.org.</b></div><div class=\"sk-container\" hidden><div class=\"sk-item sk-dashed-wrapped\"><div class=\"sk-label-container\"><div class=\"sk-label sk-toggleable\"><input class=\"sk-toggleable__control sk-hidden--visually\" id=\"sk-estimator-id-13\" type=\"checkbox\" ><label for=\"sk-estimator-id-13\" class=\"sk-toggleable__label sk-toggleable__label-arrow\">RFE</label><div class=\"sk-toggleable__content\"><pre>RFE(estimator=XGBClassifier(base_score=None, booster=None, callbacks=None,\n                            colsample_bylevel=None, colsample_bynode=None,\n                            colsample_bytree=None, early_stopping_rounds=None,\n                            enable_categorical=False, eval_metric=None,\n                            feature_types=None, gamma=None, gpu_id=None,\n                            grow_policy=None, importance_type=None,\n                            interaction_constraints=None, learning_rate=None,\n                            max_bin=None, max_cat_threshold=None,\n                            max_cat_to_onehot=None, max_delta_step=None,\n                            max_depth=None, max_leaves=None,\n                            min_child_weight=None, missing=nan,\n                            monotone_constraints=None, n_estimators=100,\n                            n_jobs=None, num_parallel_tree=None, predictor=None,\n                            random_state=None, ...),\n    n_features_to_select=10)</pre></div></div></div><div class=\"sk-parallel\"><div class=\"sk-parallel-item\"><div class=\"sk-item\"><div class=\"sk-label-container\"><div class=\"sk-label sk-toggleable\"><input class=\"sk-toggleable__control sk-hidden--visually\" id=\"sk-estimator-id-14\" type=\"checkbox\" ><label for=\"sk-estimator-id-14\" class=\"sk-toggleable__label sk-toggleable__label-arrow\">estimator: XGBClassifier</label><div class=\"sk-toggleable__content\"><pre>XGBClassifier(base_score=None, booster=None, callbacks=None,\n              colsample_bylevel=None, colsample_bynode=None,\n              colsample_bytree=None, early_stopping_rounds=None,\n              enable_categorical=False, eval_metric=None, feature_types=None,\n              gamma=None, gpu_id=None, grow_policy=None, importance_type=None,\n              interaction_constraints=None, learning_rate=None, max_bin=None,\n              max_cat_threshold=None, max_cat_to_onehot=None,\n              max_delta_step=None, max_depth=None, max_leaves=None,\n              min_child_weight=None, missing=nan, monotone_constraints=None,\n              n_estimators=100, n_jobs=None, num_parallel_tree=None,\n              predictor=None, random_state=None, ...)</pre></div></div></div><div class=\"sk-serial\"><div class=\"sk-item\"><div class=\"sk-estimator sk-toggleable\"><input class=\"sk-toggleable__control sk-hidden--visually\" id=\"sk-estimator-id-15\" type=\"checkbox\" ><label for=\"sk-estimator-id-15\" class=\"sk-toggleable__label sk-toggleable__label-arrow\">XGBClassifier</label><div class=\"sk-toggleable__content\"><pre>XGBClassifier(base_score=None, booster=None, callbacks=None,\n              colsample_bylevel=None, colsample_bynode=None,\n              colsample_bytree=None, early_stopping_rounds=None,\n              enable_categorical=False, eval_metric=None, feature_types=None,\n              gamma=None, gpu_id=None, grow_policy=None, importance_type=None,\n              interaction_constraints=None, learning_rate=None, max_bin=None,\n              max_cat_threshold=None, max_cat_to_onehot=None,\n              max_delta_step=None, max_depth=None, max_leaves=None,\n              min_child_weight=None, missing=nan, monotone_constraints=None,\n              n_estimators=100, n_jobs=None, num_parallel_tree=None,\n              predictor=None, random_state=None, ...)</pre></div></div></div></div></div></div></div></div></div></div>"
     },
     "execution_count": 29,
     "metadata": {},
     "output_type": "execute_result"
    }
   ],
   "source": [
    "rfe_xgb = RFE(estimator=XGBClassifier(), n_features_to_select=10)\n",
    "# fit the model\n",
    "rfe_xgb.fit(X, y-1)"
   ],
   "metadata": {
    "collapsed": false
   }
  },
  {
   "cell_type": "code",
   "execution_count": 30,
   "outputs": [],
   "source": [
    "from scipy import stats\n",
    "\n",
    "param_grid = {\n",
    "    'learning_rate': [0.2, 0.1],\n",
    "    'num_leaves': [25, 35],\n",
    "    'max_depth': [10, 12]\n",
    "}\n",
    "\n",
    "param_dist = {\n",
    "    'learning_rate': stats.uniform(0.09, 0.25),\n",
    "    'num_leaves': stats.randint(20,40),\n",
    "    'max_depth': [10, 12]\n",
    "}\n",
    "\n",
    "param_dist_hyperopt = {\n",
    "    'max_depth': 15 + hp.randint('num_leaves', 5),\n",
    "    'learning_rate': hp.loguniform('learning_rate', np.log(0.01), np.log(0.2)),\n",
    "    'colsample_bytree': hp.uniform('colsample_by_tree', 0.6, 1.0)\n",
    "}\n",
    "\n",
    "clf_xgb = XGBClassifier(n_estimators=150, tree_method=\"approx\", enable_categorical=True, random_state=0, verbosity=0, n_jobs=-1)"
   ],
   "metadata": {
    "collapsed": false
   }
  },
  {
   "cell_type": "code",
   "execution_count": 31,
   "outputs": [
    {
     "name": "stdout",
     "output_type": "stream",
     "text": [
      "\n",
      "8 trials detected for ('learning_rate', 'num_leaves', 'max_depth')\n",
      "\n",
      "trial: 0001 ### iterations: 00150 ### eval_score: 1.1227\n",
      "trial: 0002 ### iterations: 00150 ### eval_score: 1.18391\n",
      "trial: 0003 ### iterations: 00150 ### eval_score: 1.1227\n",
      "trial: 0004 ### iterations: 00150 ### eval_score: 1.18391\n",
      "trial: 0005 ### iterations: 00150 ### eval_score: 1.00349\n",
      "trial: 0006 ### iterations: 00150 ### eval_score: 1.04174\n",
      "trial: 0007 ### iterations: 00150 ### eval_score: 1.00349\n",
      "trial: 0008 ### iterations: 00150 ### eval_score: 1.04174\n"
     ]
    },
    {
     "data": {
      "text/plain": "BoostSearch(estimator=XGBClassifier(base_score=None, booster=None,\n                                    callbacks=None, colsample_bylevel=None,\n                                    colsample_bynode=None,\n                                    colsample_bytree=None,\n                                    early_stopping_rounds=None,\n                                    enable_categorical=True, eval_metric=None,\n                                    feature_types=None, gamma=None, gpu_id=None,\n                                    grow_policy=None, importance_type=None,\n                                    interaction_constraints=None,\n                                    learning_rate=None, max_bin=None,\n                                    max_cat_threshold=None,\n                                    max_cat_to_onehot=None, max_delta_step=None,\n                                    max_depth=None, max_leaves=None,\n                                    min_child_weight=None, missing=nan,\n                                    monotone_constraints=None, n_estimators=150,\n                                    n_jobs=-1, num_parallel_tree=None,\n                                    predictor=None, random_state=0, ...),\n            param_grid={'learning_rate': [0.2, 0.1], 'max_depth': [10, 12],\n                        'num_leaves': [25, 35]})",
      "text/html": "<style>#sk-container-id-7 {color: black;background-color: white;}#sk-container-id-7 pre{padding: 0;}#sk-container-id-7 div.sk-toggleable {background-color: white;}#sk-container-id-7 label.sk-toggleable__label {cursor: pointer;display: block;width: 100%;margin-bottom: 0;padding: 0.3em;box-sizing: border-box;text-align: center;}#sk-container-id-7 label.sk-toggleable__label-arrow:before {content: \"▸\";float: left;margin-right: 0.25em;color: #696969;}#sk-container-id-7 label.sk-toggleable__label-arrow:hover:before {color: black;}#sk-container-id-7 div.sk-estimator:hover label.sk-toggleable__label-arrow:before {color: black;}#sk-container-id-7 div.sk-toggleable__content {max-height: 0;max-width: 0;overflow: hidden;text-align: left;background-color: #f0f8ff;}#sk-container-id-7 div.sk-toggleable__content pre {margin: 0.2em;color: black;border-radius: 0.25em;background-color: #f0f8ff;}#sk-container-id-7 input.sk-toggleable__control:checked~div.sk-toggleable__content {max-height: 200px;max-width: 100%;overflow: auto;}#sk-container-id-7 input.sk-toggleable__control:checked~label.sk-toggleable__label-arrow:before {content: \"▾\";}#sk-container-id-7 div.sk-estimator input.sk-toggleable__control:checked~label.sk-toggleable__label {background-color: #d4ebff;}#sk-container-id-7 div.sk-label input.sk-toggleable__control:checked~label.sk-toggleable__label {background-color: #d4ebff;}#sk-container-id-7 input.sk-hidden--visually {border: 0;clip: rect(1px 1px 1px 1px);clip: rect(1px, 1px, 1px, 1px);height: 1px;margin: -1px;overflow: hidden;padding: 0;position: absolute;width: 1px;}#sk-container-id-7 div.sk-estimator {font-family: monospace;background-color: #f0f8ff;border: 1px dotted black;border-radius: 0.25em;box-sizing: border-box;margin-bottom: 0.5em;}#sk-container-id-7 div.sk-estimator:hover {background-color: #d4ebff;}#sk-container-id-7 div.sk-parallel-item::after {content: \"\";width: 100%;border-bottom: 1px solid gray;flex-grow: 1;}#sk-container-id-7 div.sk-label:hover label.sk-toggleable__label {background-color: #d4ebff;}#sk-container-id-7 div.sk-serial::before {content: \"\";position: absolute;border-left: 1px solid gray;box-sizing: border-box;top: 0;bottom: 0;left: 50%;z-index: 0;}#sk-container-id-7 div.sk-serial {display: flex;flex-direction: column;align-items: center;background-color: white;padding-right: 0.2em;padding-left: 0.2em;position: relative;}#sk-container-id-7 div.sk-item {position: relative;z-index: 1;}#sk-container-id-7 div.sk-parallel {display: flex;align-items: stretch;justify-content: center;background-color: white;position: relative;}#sk-container-id-7 div.sk-item::before, #sk-container-id-7 div.sk-parallel-item::before {content: \"\";position: absolute;border-left: 1px solid gray;box-sizing: border-box;top: 0;bottom: 0;left: 50%;z-index: -1;}#sk-container-id-7 div.sk-parallel-item {display: flex;flex-direction: column;z-index: 1;position: relative;background-color: white;}#sk-container-id-7 div.sk-parallel-item:first-child::after {align-self: flex-end;width: 50%;}#sk-container-id-7 div.sk-parallel-item:last-child::after {align-self: flex-start;width: 50%;}#sk-container-id-7 div.sk-parallel-item:only-child::after {width: 0;}#sk-container-id-7 div.sk-dashed-wrapped {border: 1px dashed gray;margin: 0 0.4em 0.5em 0.4em;box-sizing: border-box;padding-bottom: 0.4em;background-color: white;}#sk-container-id-7 div.sk-label label {font-family: monospace;font-weight: bold;display: inline-block;line-height: 1.2em;}#sk-container-id-7 div.sk-label-container {text-align: center;}#sk-container-id-7 div.sk-container {/* jupyter's `normalize.less` sets `[hidden] { display: none; }` but bootstrap.min.css set `[hidden] { display: none !important; }` so we also need the `!important` here to be able to override the default hidden behavior on the sphinx rendered scikit-learn.org. See: https://github.com/scikit-learn/scikit-learn/issues/21755 */display: inline-block !important;position: relative;}#sk-container-id-7 div.sk-text-repr-fallback {display: none;}</style><div id=\"sk-container-id-7\" class=\"sk-top-container\"><div class=\"sk-text-repr-fallback\"><pre>BoostSearch(estimator=XGBClassifier(base_score=None, booster=None,\n                                    callbacks=None, colsample_bylevel=None,\n                                    colsample_bynode=None,\n                                    colsample_bytree=None,\n                                    early_stopping_rounds=None,\n                                    enable_categorical=True, eval_metric=None,\n                                    feature_types=None, gamma=None, gpu_id=None,\n                                    grow_policy=None, importance_type=None,\n                                    interaction_constraints=None,\n                                    learning_rate=None, max_bin=None,\n                                    max_cat_threshold=None,\n                                    max_cat_to_onehot=None, max_delta_step=None,\n                                    max_depth=None, max_leaves=None,\n                                    min_child_weight=None, missing=nan,\n                                    monotone_constraints=None, n_estimators=150,\n                                    n_jobs=-1, num_parallel_tree=None,\n                                    predictor=None, random_state=0, ...),\n            param_grid={&#x27;learning_rate&#x27;: [0.2, 0.1], &#x27;max_depth&#x27;: [10, 12],\n                        &#x27;num_leaves&#x27;: [25, 35]})</pre><b>In a Jupyter environment, please rerun this cell to show the HTML representation or trust the notebook. <br />On GitHub, the HTML representation is unable to render, please try loading this page with nbviewer.org.</b></div><div class=\"sk-container\" hidden><div class=\"sk-item sk-dashed-wrapped\"><div class=\"sk-label-container\"><div class=\"sk-label sk-toggleable\"><input class=\"sk-toggleable__control sk-hidden--visually\" id=\"sk-estimator-id-16\" type=\"checkbox\" ><label for=\"sk-estimator-id-16\" class=\"sk-toggleable__label sk-toggleable__label-arrow\">BoostSearch</label><div class=\"sk-toggleable__content\"><pre>BoostSearch(estimator=XGBClassifier(base_score=None, booster=None,\n                                    callbacks=None, colsample_bylevel=None,\n                                    colsample_bynode=None,\n                                    colsample_bytree=None,\n                                    early_stopping_rounds=None,\n                                    enable_categorical=True, eval_metric=None,\n                                    feature_types=None, gamma=None, gpu_id=None,\n                                    grow_policy=None, importance_type=None,\n                                    interaction_constraints=None,\n                                    learning_rate=None, max_bin=None,\n                                    max_cat_threshold=None,\n                                    max_cat_to_onehot=None, max_delta_step=None,\n                                    max_depth=None, max_leaves=None,\n                                    min_child_weight=None, missing=nan,\n                                    monotone_constraints=None, n_estimators=150,\n                                    n_jobs=-1, num_parallel_tree=None,\n                                    predictor=None, random_state=0, ...),\n            param_grid={&#x27;learning_rate&#x27;: [0.2, 0.1], &#x27;max_depth&#x27;: [10, 12],\n                        &#x27;num_leaves&#x27;: [25, 35]})</pre></div></div></div><div class=\"sk-parallel\"><div class=\"sk-parallel-item\"><div class=\"sk-item\"><div class=\"sk-label-container\"><div class=\"sk-label sk-toggleable\"><input class=\"sk-toggleable__control sk-hidden--visually\" id=\"sk-estimator-id-17\" type=\"checkbox\" ><label for=\"sk-estimator-id-17\" class=\"sk-toggleable__label sk-toggleable__label-arrow\">estimator: XGBClassifier</label><div class=\"sk-toggleable__content\"><pre>XGBClassifier(base_score=None, booster=None, callbacks=None,\n              colsample_bylevel=None, colsample_bynode=None,\n              colsample_bytree=None, early_stopping_rounds=None,\n              enable_categorical=True, eval_metric=None, feature_types=None,\n              gamma=None, gpu_id=None, grow_policy=None, importance_type=None,\n              interaction_constraints=None, learning_rate=None, max_bin=None,\n              max_cat_threshold=None, max_cat_to_onehot=None,\n              max_delta_step=None, max_depth=None, max_leaves=None,\n              min_child_weight=None, missing=nan, monotone_constraints=None,\n              n_estimators=150, n_jobs=-1, num_parallel_tree=None,\n              predictor=None, random_state=0, ...)</pre></div></div></div><div class=\"sk-serial\"><div class=\"sk-item\"><div class=\"sk-estimator sk-toggleable\"><input class=\"sk-toggleable__control sk-hidden--visually\" id=\"sk-estimator-id-18\" type=\"checkbox\" ><label for=\"sk-estimator-id-18\" class=\"sk-toggleable__label sk-toggleable__label-arrow\">XGBClassifier</label><div class=\"sk-toggleable__content\"><pre>XGBClassifier(base_score=None, booster=None, callbacks=None,\n              colsample_bylevel=None, colsample_bynode=None,\n              colsample_bytree=None, early_stopping_rounds=None,\n              enable_categorical=True, eval_metric=None, feature_types=None,\n              gamma=None, gpu_id=None, grow_policy=None, importance_type=None,\n              interaction_constraints=None, learning_rate=None, max_bin=None,\n              max_cat_threshold=None, max_cat_to_onehot=None,\n              max_delta_step=None, max_depth=None, max_leaves=None,\n              min_child_weight=None, missing=nan, monotone_constraints=None,\n              n_estimators=150, n_jobs=-1, num_parallel_tree=None,\n              predictor=None, random_state=0, ...)</pre></div></div></div></div></div></div></div></div></div></div>"
     },
     "execution_count": 31,
     "metadata": {},
     "output_type": "execute_result"
    }
   ],
   "source": [
    "# Use Shap hypertune to find xgb param\n",
    "\n",
    "model = BoostSearch(clf_xgb, param_grid=param_grid)\n",
    "model.fit(X_train[rfe_xgb.get_feature_names_out()], y_train-1, eval_set=[(X_test[rfe_xgb.get_feature_names_out()], y_test-1)], verbose=0)"
   ],
   "metadata": {
    "collapsed": false
   }
  },
  {
   "cell_type": "code",
   "execution_count": 32,
   "outputs": [
    {
     "data": {
      "text/plain": "(XGBClassifier(base_score=None, booster=None, callbacks=None,\n               colsample_bylevel=None, colsample_bynode=None,\n               colsample_bytree=None, early_stopping_rounds=None,\n               enable_categorical=True, eval_metric=None, feature_types=None,\n               gamma=None, gpu_id=None, grow_policy=None, importance_type=None,\n               interaction_constraints=None, learning_rate=0.1, max_bin=None,\n               max_cat_threshold=None, max_cat_to_onehot=None,\n               max_delta_step=None, max_depth=10, max_leaves=None,\n               min_child_weight=None, missing=nan, monotone_constraints=None,\n               n_estimators=150, n_jobs=-1, num_leaves=25,\n               num_parallel_tree=None, objective='multi:softprob', ...),\n {'learning_rate': 0.1, 'num_leaves': 25, 'max_depth': 10},\n 1.0034929781039674)"
     },
     "execution_count": 32,
     "metadata": {},
     "output_type": "execute_result"
    }
   ],
   "source": [
    "model.estimator_, model.best_params_, model.best_score_"
   ],
   "metadata": {
    "collapsed": false
   }
  },
  {
   "cell_type": "code",
   "execution_count": 33,
   "outputs": [
    {
     "data": {
      "text/plain": "0.5836177474402731"
     },
     "execution_count": 33,
     "metadata": {},
     "output_type": "execute_result"
    }
   ],
   "source": [
    "model.score(X_test[rfe_xgb.get_feature_names_out()], y_test-1)"
   ],
   "metadata": {
    "collapsed": false
   }
  },
  {
   "cell_type": "code",
   "execution_count": 34,
   "outputs": [
    {
     "data": {
      "text/plain": "XGBClassifier(base_score=None, booster=None, callbacks=None,\n              colsample_bylevel=None, colsample_bynode=None,\n              colsample_bytree=None, early_stopping_rounds=None,\n              enable_categorical=True, eval_metric=None, feature_types=None,\n              gamma=None, gpu_id=None, grow_policy=None, importance_type=None,\n              interaction_constraints=None, learning_rate=0.1, max_bin=None,\n              max_cat_threshold=None, max_cat_to_onehot=None,\n              max_delta_step=None, max_depth=10, max_leaves=None,\n              min_child_weight=None, missing=nan, monotone_constraints=None,\n              n_estimators=150, n_jobs=-1, num_leaves=25,\n              num_parallel_tree=None, objective='multi:softprob', ...)",
      "text/html": "<style>#sk-container-id-8 {color: black;background-color: white;}#sk-container-id-8 pre{padding: 0;}#sk-container-id-8 div.sk-toggleable {background-color: white;}#sk-container-id-8 label.sk-toggleable__label {cursor: pointer;display: block;width: 100%;margin-bottom: 0;padding: 0.3em;box-sizing: border-box;text-align: center;}#sk-container-id-8 label.sk-toggleable__label-arrow:before {content: \"▸\";float: left;margin-right: 0.25em;color: #696969;}#sk-container-id-8 label.sk-toggleable__label-arrow:hover:before {color: black;}#sk-container-id-8 div.sk-estimator:hover label.sk-toggleable__label-arrow:before {color: black;}#sk-container-id-8 div.sk-toggleable__content {max-height: 0;max-width: 0;overflow: hidden;text-align: left;background-color: #f0f8ff;}#sk-container-id-8 div.sk-toggleable__content pre {margin: 0.2em;color: black;border-radius: 0.25em;background-color: #f0f8ff;}#sk-container-id-8 input.sk-toggleable__control:checked~div.sk-toggleable__content {max-height: 200px;max-width: 100%;overflow: auto;}#sk-container-id-8 input.sk-toggleable__control:checked~label.sk-toggleable__label-arrow:before {content: \"▾\";}#sk-container-id-8 div.sk-estimator input.sk-toggleable__control:checked~label.sk-toggleable__label {background-color: #d4ebff;}#sk-container-id-8 div.sk-label input.sk-toggleable__control:checked~label.sk-toggleable__label {background-color: #d4ebff;}#sk-container-id-8 input.sk-hidden--visually {border: 0;clip: rect(1px 1px 1px 1px);clip: rect(1px, 1px, 1px, 1px);height: 1px;margin: -1px;overflow: hidden;padding: 0;position: absolute;width: 1px;}#sk-container-id-8 div.sk-estimator {font-family: monospace;background-color: #f0f8ff;border: 1px dotted black;border-radius: 0.25em;box-sizing: border-box;margin-bottom: 0.5em;}#sk-container-id-8 div.sk-estimator:hover {background-color: #d4ebff;}#sk-container-id-8 div.sk-parallel-item::after {content: \"\";width: 100%;border-bottom: 1px solid gray;flex-grow: 1;}#sk-container-id-8 div.sk-label:hover label.sk-toggleable__label {background-color: #d4ebff;}#sk-container-id-8 div.sk-serial::before {content: \"\";position: absolute;border-left: 1px solid gray;box-sizing: border-box;top: 0;bottom: 0;left: 50%;z-index: 0;}#sk-container-id-8 div.sk-serial {display: flex;flex-direction: column;align-items: center;background-color: white;padding-right: 0.2em;padding-left: 0.2em;position: relative;}#sk-container-id-8 div.sk-item {position: relative;z-index: 1;}#sk-container-id-8 div.sk-parallel {display: flex;align-items: stretch;justify-content: center;background-color: white;position: relative;}#sk-container-id-8 div.sk-item::before, #sk-container-id-8 div.sk-parallel-item::before {content: \"\";position: absolute;border-left: 1px solid gray;box-sizing: border-box;top: 0;bottom: 0;left: 50%;z-index: -1;}#sk-container-id-8 div.sk-parallel-item {display: flex;flex-direction: column;z-index: 1;position: relative;background-color: white;}#sk-container-id-8 div.sk-parallel-item:first-child::after {align-self: flex-end;width: 50%;}#sk-container-id-8 div.sk-parallel-item:last-child::after {align-self: flex-start;width: 50%;}#sk-container-id-8 div.sk-parallel-item:only-child::after {width: 0;}#sk-container-id-8 div.sk-dashed-wrapped {border: 1px dashed gray;margin: 0 0.4em 0.5em 0.4em;box-sizing: border-box;padding-bottom: 0.4em;background-color: white;}#sk-container-id-8 div.sk-label label {font-family: monospace;font-weight: bold;display: inline-block;line-height: 1.2em;}#sk-container-id-8 div.sk-label-container {text-align: center;}#sk-container-id-8 div.sk-container {/* jupyter's `normalize.less` sets `[hidden] { display: none; }` but bootstrap.min.css set `[hidden] { display: none !important; }` so we also need the `!important` here to be able to override the default hidden behavior on the sphinx rendered scikit-learn.org. See: https://github.com/scikit-learn/scikit-learn/issues/21755 */display: inline-block !important;position: relative;}#sk-container-id-8 div.sk-text-repr-fallback {display: none;}</style><div id=\"sk-container-id-8\" class=\"sk-top-container\"><div class=\"sk-text-repr-fallback\"><pre>XGBClassifier(base_score=None, booster=None, callbacks=None,\n              colsample_bylevel=None, colsample_bynode=None,\n              colsample_bytree=None, early_stopping_rounds=None,\n              enable_categorical=True, eval_metric=None, feature_types=None,\n              gamma=None, gpu_id=None, grow_policy=None, importance_type=None,\n              interaction_constraints=None, learning_rate=0.1, max_bin=None,\n              max_cat_threshold=None, max_cat_to_onehot=None,\n              max_delta_step=None, max_depth=10, max_leaves=None,\n              min_child_weight=None, missing=nan, monotone_constraints=None,\n              n_estimators=150, n_jobs=-1, num_leaves=25,\n              num_parallel_tree=None, objective=&#x27;multi:softprob&#x27;, ...)</pre><b>In a Jupyter environment, please rerun this cell to show the HTML representation or trust the notebook. <br />On GitHub, the HTML representation is unable to render, please try loading this page with nbviewer.org.</b></div><div class=\"sk-container\" hidden><div class=\"sk-item\"><div class=\"sk-estimator sk-toggleable\"><input class=\"sk-toggleable__control sk-hidden--visually\" id=\"sk-estimator-id-19\" type=\"checkbox\" checked><label for=\"sk-estimator-id-19\" class=\"sk-toggleable__label sk-toggleable__label-arrow\">XGBClassifier</label><div class=\"sk-toggleable__content\"><pre>XGBClassifier(base_score=None, booster=None, callbacks=None,\n              colsample_bylevel=None, colsample_bynode=None,\n              colsample_bytree=None, early_stopping_rounds=None,\n              enable_categorical=True, eval_metric=None, feature_types=None,\n              gamma=None, gpu_id=None, grow_policy=None, importance_type=None,\n              interaction_constraints=None, learning_rate=0.1, max_bin=None,\n              max_cat_threshold=None, max_cat_to_onehot=None,\n              max_delta_step=None, max_depth=10, max_leaves=None,\n              min_child_weight=None, missing=nan, monotone_constraints=None,\n              n_estimators=150, n_jobs=-1, num_leaves=25,\n              num_parallel_tree=None, objective=&#x27;multi:softprob&#x27;, ...)</pre></div></div></div></div></div>"
     },
     "execution_count": 34,
     "metadata": {},
     "output_type": "execute_result"
    }
   ],
   "source": [
    "xgb_best = XGBClassifier(n_estimators=150, tree_method=\"approx\",\n",
    "                         learning_rate = model.best_params_['learning_rate'],\n",
    "                         num_leaves = model.best_params_['num_leaves'],\n",
    "                         max_depth = model.best_params_['max_depth'],\n",
    "                         enable_categorical=True, random_state=0, verbosity=0, n_jobs=-1)\n",
    "\n",
    "xgb_best.fit(X_train[rfe_xgb.get_feature_names_out()],y_train-1)\n"
   ],
   "metadata": {
    "collapsed": false
   }
  },
  {
   "cell_type": "code",
   "execution_count": 35,
   "outputs": [],
   "source": [
    "\n",
    "pred = xgb_best.predict(X_train[rfe_xgb.get_feature_names_out()])\n",
    "\n",
    "xgb_acc, xgb_f1, xgb_recall, xgb_pre = output_score(y_train-1,pred)\n",
    "\n"
   ],
   "metadata": {
    "collapsed": false
   }
  },
  {
   "cell_type": "code",
   "execution_count": 36,
   "outputs": [],
   "source": [
    "model_name.append('xgb')\n",
    "\n",
    "acc.append(xgb_acc)\n",
    "precision.append(xgb_pre)\n",
    "f1.append(xgb_f1)\n",
    "recall.append(xgb_recall)"
   ],
   "metadata": {
    "collapsed": false
   }
  },
  {
   "cell_type": "code",
   "execution_count": 37,
   "outputs": [],
   "source": [
    "\n",
    "pred = xgb_best.predict(X_test[rfe_xgb.get_feature_names_out()])\n",
    "\n",
    "xgb_acc, xgb_f1, xgb_recall, xgb_pre = output_score(y_test-1,pred)\n",
    "\n",
    "\n",
    "acc_t.append(xgb_acc)\n",
    "precision_t.append(xgb_pre)\n",
    "f1_t.append(xgb_f1)\n",
    "recall_t.append(xgb_recall)"
   ],
   "metadata": {
    "collapsed": false
   }
  },
  {
   "cell_type": "code",
   "execution_count": 38,
   "outputs": [
    {
     "data": {
      "text/plain": "array([0.11074574, 0.09230312, 0.07674211, 0.08795743, 0.08967483,\n       0.10360028, 0.11364758, 0.12448829, 0.10153542, 0.09930515],\n      dtype=float32)"
     },
     "execution_count": 38,
     "metadata": {},
     "output_type": "execute_result"
    }
   ],
   "source": [
    "xgb_best.feature_importances_"
   ],
   "metadata": {
    "collapsed": false
   }
  },
  {
   "cell_type": "markdown",
   "metadata": {},
   "source": [
    "## GaussianNB"
   ]
  },
  {
   "cell_type": "code",
   "execution_count": 39,
   "metadata": {
    "id": "2ECYCCIzjgeZ"
   },
   "outputs": [],
   "source": [
    "gnb = GaussianNB()"
   ]
  },
  {
   "cell_type": "code",
   "execution_count": 40,
   "metadata": {
    "colab": {
     "base_uri": "https://localhost:8080/"
    },
    "id": "9RtJbxv8jsrN",
    "outputId": "2da77a00-11c1-48fe-e55c-ff94e2f53921"
   },
   "outputs": [
    {
     "name": "stderr",
     "output_type": "stream",
     "text": [
      "Recall is ill-defined and being set to 0.0 in labels with no true samples. Use `zero_division` parameter to control this behavior.\n",
      "Recall is ill-defined and being set to 0.0 in labels with no true samples. Use `zero_division` parameter to control this behavior.\n"
     ]
    }
   ],
   "source": [
    "pred = gnb.fit(X_train, y_train).predict(X_train)\n",
    "gnb_acc, gnb_f1, gnb_recall, gnb_pre = output_score(y_train-1,pred)\n",
    "model_name.append('gnb')\n",
    "\n",
    "acc.append(gnb_acc)\n",
    "precision.append(gnb_pre)\n",
    "f1.append(gnb_f1)\n",
    "recall.append(gnb_recall)\n",
    "\n",
    "pred = gnb.fit(X_train, y_train).predict(X_test)\n",
    "\n",
    "gnb_acc, gnb_f1, gnb_recall, gnb_pre = output_score(y_test-1,pred)\n",
    "\n",
    "\n",
    "acc_t.append(gnb_acc)\n",
    "precision_t.append(gnb_pre)\n",
    "f1_t.append(gnb_f1)\n",
    "recall_t.append(gnb_recall)"
   ]
  },
  {
   "cell_type": "markdown",
   "metadata": {},
   "source": [
    "## Random forest"
   ]
  },
  {
   "cell_type": "markdown",
   "metadata": {},
   "source": [
    "## Extra Trees Classifier"
   ]
  },
  {
   "cell_type": "code",
   "execution_count": 41,
   "metadata": {},
   "outputs": [
    {
     "name": "stderr",
     "output_type": "stream",
     "text": [
      "Recall is ill-defined and being set to 0.0 in labels with no true samples. Use `zero_division` parameter to control this behavior.\n",
      "Recall is ill-defined and being set to 0.0 in labels with no true samples. Use `zero_division` parameter to control this behavior.\n"
     ]
    }
   ],
   "source": [
    "from sklearn.ensemble import ExtraTreesClassifier\n",
    "etc = ExtraTreesClassifier()\n",
    "\n",
    "pred = etc.fit(X_train, y_train).predict(X_train)\n",
    "etc_acc, etc_f1, etc_recall, etc_pre = output_score(y_train-1,pred)\n",
    "model_name.append('etc')\n",
    "\n",
    "acc.append(etc_acc)\n",
    "precision.append(etc_pre)\n",
    "f1.append(etc_f1)\n",
    "recall.append(etc_recall)\n",
    "\n",
    "pred = etc.fit(X_train, y_train).predict(X_test)\n",
    "\n",
    "etc_acc, etc_f1, etc_recall, etc_pre = output_score(y_test-1,pred)\n",
    "\n",
    "\n",
    "acc_t.append(etc_acc)\n",
    "precision_t.append(etc_pre)\n",
    "f1_t.append(etc_f1)\n",
    "recall_t.append(etc_recall)"
   ]
  },
  {
   "cell_type": "markdown",
   "metadata": {},
   "source": [
    "## SGD"
   ]
  },
  {
   "cell_type": "code",
   "execution_count": 42,
   "metadata": {
    "id": "aU-JZ8I68fUE"
   },
   "outputs": [],
   "source": [
    "clf = make_pipeline(StandardScaler(), SGDClassifier(max_iter=1000, tol=1e-3, alpha=1, penalty='l1'))\n",
    "preds = clf.fit(X_train, y_train).predict(X_test)"
   ]
  },
  {
   "cell_type": "code",
   "execution_count": 43,
   "metadata": {
    "colab": {
     "base_uri": "https://localhost:8080/"
    },
    "id": "R8Yr7aMz_B2p",
    "outputId": "ab16e020-0634-48fc-c145-7b8390840edf"
   },
   "outputs": [
    {
     "name": "stderr",
     "output_type": "stream",
     "text": [
      "Maximum number of iteration reached before convergence. Consider increasing max_iter to improve the fit.\n",
      "Maximum number of iteration reached before convergence. Consider increasing max_iter to improve the fit.\n",
      "Maximum number of iteration reached before convergence. Consider increasing max_iter to improve the fit.\n",
      "Maximum number of iteration reached before convergence. Consider increasing max_iter to improve the fit.\n",
      "Maximum number of iteration reached before convergence. Consider increasing max_iter to improve the fit.\n",
      "Maximum number of iteration reached before convergence. Consider increasing max_iter to improve the fit.\n",
      "Maximum number of iteration reached before convergence. Consider increasing max_iter to improve the fit.\n",
      "Maximum number of iteration reached before convergence. Consider increasing max_iter to improve the fit.\n",
      "Maximum number of iteration reached before convergence. Consider increasing max_iter to improve the fit.\n",
      "Maximum number of iteration reached before convergence. Consider increasing max_iter to improve the fit.\n",
      "Maximum number of iteration reached before convergence. Consider increasing max_iter to improve the fit.\n",
      "Maximum number of iteration reached before convergence. Consider increasing max_iter to improve the fit.\n",
      "Maximum number of iteration reached before convergence. Consider increasing max_iter to improve the fit.\n",
      "Maximum number of iteration reached before convergence. Consider increasing max_iter to improve the fit.\n",
      "Maximum number of iteration reached before convergence. Consider increasing max_iter to improve the fit.\n",
      "Maximum number of iteration reached before convergence. Consider increasing max_iter to improve the fit.\n",
      "Maximum number of iteration reached before convergence. Consider increasing max_iter to improve the fit.\n",
      "Maximum number of iteration reached before convergence. Consider increasing max_iter to improve the fit.\n",
      "Maximum number of iteration reached before convergence. Consider increasing max_iter to improve the fit.\n",
      "Maximum number of iteration reached before convergence. Consider increasing max_iter to improve the fit.\n",
      "Maximum number of iteration reached before convergence. Consider increasing max_iter to improve the fit.\n",
      "Maximum number of iteration reached before convergence. Consider increasing max_iter to improve the fit.\n",
      "Maximum number of iteration reached before convergence. Consider increasing max_iter to improve the fit.\n",
      "Maximum number of iteration reached before convergence. Consider increasing max_iter to improve the fit.\n",
      "Maximum number of iteration reached before convergence. Consider increasing max_iter to improve the fit.\n",
      "Maximum number of iteration reached before convergence. Consider increasing max_iter to improve the fit.\n",
      "Maximum number of iteration reached before convergence. Consider increasing max_iter to improve the fit.\n",
      "Maximum number of iteration reached before convergence. Consider increasing max_iter to improve the fit.\n",
      "Maximum number of iteration reached before convergence. Consider increasing max_iter to improve the fit.\n",
      "Maximum number of iteration reached before convergence. Consider increasing max_iter to improve the fit.\n",
      "Maximum number of iteration reached before convergence. Consider increasing max_iter to improve the fit.\n",
      "Maximum number of iteration reached before convergence. Consider increasing max_iter to improve the fit.\n",
      "Maximum number of iteration reached before convergence. Consider increasing max_iter to improve the fit.\n",
      "Maximum number of iteration reached before convergence. Consider increasing max_iter to improve the fit.\n",
      "Maximum number of iteration reached before convergence. Consider increasing max_iter to improve the fit.\n",
      "Maximum number of iteration reached before convergence. Consider increasing max_iter to improve the fit.\n",
      "Maximum number of iteration reached before convergence. Consider increasing max_iter to improve the fit.\n",
      "Maximum number of iteration reached before convergence. Consider increasing max_iter to improve the fit.\n"
     ]
    }
   ],
   "source": [
    "param_grid = {'alpha' : [.001,.01,.1,1,10,100],\n",
    "              'penalty': ['l2', 'l1', 'elasticnet', None]}\n",
    "\n",
    "gridsearch = GridSearchCV(SGDClassifier(max_iter=1000, tol=1e-3), param_grid, cv=10).fit(X_train, y_train)"
   ]
  },
  {
   "cell_type": "code",
   "execution_count": 44,
   "metadata": {
    "colab": {
     "base_uri": "https://localhost:8080/"
    },
    "id": "AaY_ljN3DXXL",
    "outputId": "499bc196-6ea4-4ab0-bee9-bfc0abdc7ba9"
   },
   "outputs": [
    {
     "data": {
      "text/plain": "{'alpha': 10, 'penalty': 'l2'}"
     },
     "execution_count": 44,
     "metadata": {},
     "output_type": "execute_result"
    }
   ],
   "source": [
    "gridsearch.best_params_"
   ]
  },
  {
   "cell_type": "code",
   "execution_count": 45,
   "metadata": {
    "id": "rASJTEJ177xY"
   },
   "outputs": [],
   "source": [
    "clf = make_pipeline(StandardScaler(), SGDClassifier(max_iter=1000, tol=1e-3, alpha=gridsearch.best_params_['alpha'], penalty=gridsearch.best_params_['penalty']))"
   ]
  },
  {
   "cell_type": "code",
   "execution_count": 46,
   "metadata": {
    "colab": {
     "base_uri": "https://localhost:8080/"
    },
    "id": "uFK6T_UQ9aOu",
    "outputId": "89c108f0-47bd-4942-a8f3-a818df35dc4c"
   },
   "outputs": [],
   "source": [
    "pred = clf.fit(X_train, y_train).predict(X_train)\n",
    "clf_acc, clf_f1, clf_recall, clf_pre = output_score(y_train-1,pred)\n",
    "model_name.append('clf')\n",
    "\n",
    "acc.append(clf_acc)\n",
    "precision.append(clf_pre)\n",
    "f1.append(clf_f1)\n",
    "recall.append(clf_recall)\n",
    "\n",
    "pred = clf.fit(X_train, y_train).predict(X_test)\n",
    "\n",
    "clf_acc, clf_f1, clf_recall, clf_pre = output_score(y_test-1,pred)\n",
    "\n",
    "\n",
    "acc_t.append(clf_acc)\n",
    "precision_t.append(clf_pre)\n",
    "f1_t.append(clf_f1)\n",
    "recall_t.append(clf_recall)"
   ]
  },
  {
   "cell_type": "markdown",
   "metadata": {},
   "source": [
    "# Feature Selection"
   ]
  },
  {
   "cell_type": "code",
   "execution_count": 47,
   "outputs": [],
   "source": [
    "#model0 = SelectFromModel(clf, prefit=True)"
   ],
   "metadata": {
    "collapsed": false
   }
  },
  {
   "cell_type": "code",
   "execution_count": 48,
   "outputs": [],
   "source": [
    "#X_train_new = model0.transform(X_train)"
   ],
   "metadata": {
    "collapsed": false
   }
  },
  {
   "cell_type": "code",
   "execution_count": 49,
   "outputs": [],
   "source": [
    "#feature_names = X_train.columns[model0.get_support()]"
   ],
   "metadata": {
    "collapsed": false
   }
  },
  {
   "cell_type": "code",
   "execution_count": 50,
   "outputs": [],
   "source": [
    "#print('Feature Names \\n',feature_names)"
   ],
   "metadata": {
    "collapsed": false
   }
  },
  {
   "cell_type": "code",
   "execution_count": 51,
   "outputs": [],
   "source": [
    "#X_test_new = X_test[feature_names]"
   ],
   "metadata": {
    "collapsed": false
   }
  },
  {
   "cell_type": "code",
   "execution_count": 52,
   "outputs": [],
   "source": [
    "#X_test_new = X_test[['Open','GDP','unemployment_rate', 'year', 'Hires_jolts',\n",
    "#       'Layoffs_jolts', 'Hire_quite_jolts', 'Job_seekers_ratio', 'Industry_Consumer Discretionary Select Sector SPDR Fund', 'Industry_Energy Select Sector SPDR Fund','Industry_Financial Select Sector SPDR Fund','Industry_Industrial Select Sector SPDR Fund','Industry_Materials Select Sector SPDR Fund','Industry_Utilities Select Sector SPDR Fund']]"
   ],
   "metadata": {
    "collapsed": false
   }
  },
  {
   "cell_type": "code",
   "execution_count": 53,
   "outputs": [],
   "source": [
    "#MLR0 = LinearRegression().fit(X_train_new, y_train)\n",
    "#preds = MLR0.predict(X_test_new)"
   ],
   "metadata": {
    "collapsed": false
   }
  },
  {
   "cell_type": "code",
   "execution_count": 54,
   "outputs": [],
   "source": [
    "#preds = np.round(preds)"
   ],
   "metadata": {
    "collapsed": false
   }
  },
  {
   "cell_type": "code",
   "execution_count": 55,
   "outputs": [],
   "source": [
    "#y_test = y_test.cat.codes.astype(np.float64)"
   ],
   "metadata": {
    "collapsed": false
   }
  },
  {
   "cell_type": "code",
   "execution_count": 56,
   "outputs": [],
   "source": [
    "#accuracy_score(preds,y_test)"
   ],
   "metadata": {
    "collapsed": false
   }
  },
  {
   "cell_type": "markdown",
   "source": [
    "# Kernel SVM"
   ],
   "metadata": {
    "collapsed": false
   }
  },
  {
   "cell_type": "code",
   "execution_count": 57,
   "outputs": [],
   "source": [
    "svm = SVC(kernel=\"rbf\")\n",
    "\n",
    "\n",
    "pred = svm.fit(X_train, y_train).predict(X_train)\n",
    "svm_acc, svm_f1, svm_recall, svm_pre = output_score(y_train-1,pred)\n",
    "model_name.append('svm')\n",
    "\n",
    "acc.append(svm_acc)\n",
    "precision.append(svm_pre)\n",
    "f1.append(svm_f1)\n",
    "recall.append(svm_recall)\n",
    "\n",
    "pred = svm.fit(X_train, y_train).predict(X_test)\n",
    "\n",
    "svm_acc, svm_f1, svm_recall, svm_pre = output_score(y_test-1,pred)\n",
    "\n",
    "\n",
    "acc_t.append(svm_acc)\n",
    "precision_t.append(svm_pre)\n",
    "f1_t.append(svm_f1)\n",
    "recall_t.append(svm_recall)\n",
    "\n"
   ],
   "metadata": {
    "collapsed": false
   }
  },
  {
   "cell_type": "markdown",
   "source": [
    "# Neural Net"
   ],
   "metadata": {
    "collapsed": false
   }
  },
  {
   "cell_type": "code",
   "execution_count": 58,
   "outputs": [
    {
     "name": "stderr",
     "output_type": "stream",
     "text": [
      "Recall is ill-defined and being set to 0.0 in labels with no true samples. Use `zero_division` parameter to control this behavior.\n"
     ]
    }
   ],
   "source": [
    "nn = MLPClassifier(alpha=1, hidden_layer_sizes = (20, 10))\n",
    "\n",
    "pred = nn.fit(X_train, y_train).predict(X_train)\n",
    "nn_acc, nn_f1, nn_recall, nn_pre = output_score(y_train-1,pred)\n",
    "model_name.append('nn')\n",
    "\n",
    "acc.append(nn_acc)\n",
    "precision.append(nn_pre)\n",
    "f1.append(nn_f1)\n",
    "recall.append(nn_recall)\n",
    "\n",
    "pred = nn.fit(X_train, y_train).predict(X_test)\n",
    "\n",
    "nn_acc, nn_f1, nn_recall, nn_pre = output_score(y_test-1,pred)\n",
    "\n",
    "\n",
    "acc_t.append(nn_acc)\n",
    "precision_t.append(nn_pre)\n",
    "f1_t.append(nn_f1)\n",
    "recall_t.append(nn_recall)\n",
    "\n"
   ],
   "metadata": {
    "collapsed": false
   }
  },
  {
   "cell_type": "code",
   "execution_count": 59,
   "outputs": [
    {
     "name": "stdout",
     "output_type": "stream",
     "text": [
      "     accuracy  precision        F1    recall\n",
      "RF   0.556758   0.370979  0.375372  0.406224\n",
      "gb   0.688122   0.782846  0.559396  0.547839\n",
      "xgb  0.859860   0.883476  0.841713  0.814542\n",
      "gnb  0.379754   0.128178  0.160486  0.244126\n",
      "etc  0.079579   0.040148  0.050065  0.075279\n",
      "clf  0.385898   0.163611  0.207704  0.326763\n",
      "svm  0.404037   0.203970  0.202997  0.335336\n",
      "nn   0.112346   0.131994  0.053480  0.245287\n"
     ]
    }
   ],
   "source": [
    "df_train = pd.DataFrame(data={'accuracy':acc,\n",
    "                              'precision': precision,\n",
    "                              'F1': f1,\n",
    "                              'recall': recall},\n",
    "                        index=model_name)\n",
    "\n",
    "print(df_train)"
   ],
   "metadata": {
    "collapsed": false
   }
  },
  {
   "cell_type": "code",
   "execution_count": 60,
   "outputs": [
    {
     "data": {
      "text/plain": "     accuracy  precision        F1    recall\nRF   0.572014   0.380591  0.386721  0.417887\ngb   0.575427   0.447908  0.406726  0.428238\nxgb  0.583618   0.505415  0.476506  0.471811\ngnb  0.380205   0.122056  0.155771  0.241311\netc  0.221843   0.111242  0.142286  0.221789\nclf  0.384300   0.160504  0.203618  0.323642\nsvm  0.405461   0.238009  0.207039  0.338058\nnn   0.359044   0.169890  0.220805  0.326324",
      "text/html": "<div>\n<style scoped>\n    .dataframe tbody tr th:only-of-type {\n        vertical-align: middle;\n    }\n\n    .dataframe tbody tr th {\n        vertical-align: top;\n    }\n\n    .dataframe thead th {\n        text-align: right;\n    }\n</style>\n<table border=\"1\" class=\"dataframe\">\n  <thead>\n    <tr style=\"text-align: right;\">\n      <th></th>\n      <th>accuracy</th>\n      <th>precision</th>\n      <th>F1</th>\n      <th>recall</th>\n    </tr>\n  </thead>\n  <tbody>\n    <tr>\n      <th>RF</th>\n      <td>0.572014</td>\n      <td>0.380591</td>\n      <td>0.386721</td>\n      <td>0.417887</td>\n    </tr>\n    <tr>\n      <th>gb</th>\n      <td>0.575427</td>\n      <td>0.447908</td>\n      <td>0.406726</td>\n      <td>0.428238</td>\n    </tr>\n    <tr>\n      <th>xgb</th>\n      <td>0.583618</td>\n      <td>0.505415</td>\n      <td>0.476506</td>\n      <td>0.471811</td>\n    </tr>\n    <tr>\n      <th>gnb</th>\n      <td>0.380205</td>\n      <td>0.122056</td>\n      <td>0.155771</td>\n      <td>0.241311</td>\n    </tr>\n    <tr>\n      <th>etc</th>\n      <td>0.221843</td>\n      <td>0.111242</td>\n      <td>0.142286</td>\n      <td>0.221789</td>\n    </tr>\n    <tr>\n      <th>clf</th>\n      <td>0.384300</td>\n      <td>0.160504</td>\n      <td>0.203618</td>\n      <td>0.323642</td>\n    </tr>\n    <tr>\n      <th>svm</th>\n      <td>0.405461</td>\n      <td>0.238009</td>\n      <td>0.207039</td>\n      <td>0.338058</td>\n    </tr>\n    <tr>\n      <th>nn</th>\n      <td>0.359044</td>\n      <td>0.169890</td>\n      <td>0.220805</td>\n      <td>0.326324</td>\n    </tr>\n  </tbody>\n</table>\n</div>"
     },
     "execution_count": 60,
     "metadata": {},
     "output_type": "execute_result"
    }
   ],
   "source": [
    "df_test = pd.DataFrame(data={'accuracy':acc_t,\n",
    "                              'precision': precision_t,\n",
    "                              'F1': f1_t,\n",
    "                              'recall': recall_t},\n",
    "                        index=model_name)\n",
    "\n",
    "df_test"
   ],
   "metadata": {
    "collapsed": false
   }
  }
 ],
 "metadata": {
  "colab": {
   "provenance": []
  },
  "kernelspec": {
   "display_name": "Python 3 (ipykernel)",
   "language": "python",
   "name": "python3"
  },
  "language_info": {
   "codemirror_mode": {
    "name": "ipython",
    "version": 3
   },
   "file_extension": ".py",
   "mimetype": "text/x-python",
   "name": "python",
   "nbconvert_exporter": "python",
   "pygments_lexer": "ipython3",
   "version": "3.10.7"
  }
 },
 "nbformat": 4,
 "nbformat_minor": 1
}
