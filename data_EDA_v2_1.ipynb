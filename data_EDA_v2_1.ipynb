{
 "cells": [
  {
   "cell_type": "code",
   "execution_count": 44,
   "metadata": {},
   "outputs": [],
   "source": [
    "import pandas as pd\n",
    "import seaborn as sns\n",
    "import numpy as np\n",
    "import matplotlib.pyplot as plt\n",
    "from datetime import datetime as dt\n",
    "from sklearn.preprocessing import StandardScaler\n",
    "\n",
    "from sklearn.model_selection import train_test_split\n",
    "\n",
    "from sklearn.ensemble import RandomForestClassifier , GradientBoostingClassifier\n",
    "from sklearn.metrics import classification_report , confusion_matrix , accuracy_score\n",
    "from sklearn.model_selection import cross_val_score\n",
    "\n",
    "from sklearn.model_selection import RandomizedSearchCV\n",
    "from sklearn.pipeline import Pipeline \n"
   ]
  },
  {
   "cell_type": "code",
   "execution_count": 71,
   "metadata": {},
   "outputs": [],
   "source": [
    "df = pd.read_csv('Layoff_Final_2.csv')\n",
    "df['WARN Received Date'] = pd.to_datetime(df['WARN Received Date'])\n",
    "#df['Effective Date'] = pd.to_datetime(df['Effective Date'])\n",
    "df['Number of Workers'] = pd.to_numeric(df['Number of Workers'], errors='coerce')\n",
    "df.dropna(subset=['Number of Workers'], inplace=True)\n",
    "# df['year'] = df['WARN Received Date'].dt.year\n",
    "# df['month'] = df['WARN Received Date'].dt.month\n"
   ]
  },
  {
   "cell_type": "code",
   "execution_count": 72,
   "metadata": {},
   "outputs": [],
   "source": [
    "df['by_month'] = df['WARN Received Date'].dt.strftime(\"%Y-%m\")\n",
    "#df['by_month'] = pd.to_datetime(df['year'].astype(str) + '-' + df['month'].astype(str))\n",
    "df = df[(df.by_month<'2020-03')|(df.by_month>'2021-09')].copy()\n",
    "quantiles = df['Number of Workers'].quantile([0.33, 0.66])\n",
    "df['layoff_category'] = pd.cut(df['Number of Workers'], bins=[0, quantiles.iloc[0], quantiles.iloc[1], df['Number of Workers'].max()], labels=[1,2,3])\n",
    "df.dropna(subset=['layoff_category'],inplace=True)\n"
   ]
  }
 ],
 "metadata": {
  "kernelspec": {
   "display_name": "base",
   "language": "python",
   "name": "python3"
  },
  "language_info": {
   "codemirror_mode": {
    "name": "ipython",
    "version": 3
   },
   "file_extension": ".py",
   "mimetype": "text/x-python",
   "name": "python",
   "nbconvert_exporter": "python",
   "pygments_lexer": "ipython3",
   "version": "3.9.15"
  },
  "orig_nbformat": 4
 },
 "nbformat": 4,
 "nbformat_minor": 2
}
